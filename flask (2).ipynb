{
 "cells": [
  {
   "cell_type": "raw",
   "id": "778958e7-9e45-4b17-8c40-6cd0745592ac",
   "metadata": {},
   "source": [
    "Question1. What is Flask framework? what are the advantage of flask framework?"
   ]
  },
  {
   "cell_type": "raw",
   "id": "efd2f2a8-ab2e-42a2-b83a-0e47a5bf7f87",
   "metadata": {},
   "source": [
    "ans. Flask is a micro web framework written in python. it is classified as a micro frame work because it doesn't require particular tools or libraries.\n",
    "It has no database abstraction layer,form validation or any other components where pre-existing third party libraries provide common functions.\n",
    "\n",
    "##advantages of flask framework\n",
    "It is scalable,size is everything and flask's status as a microframework means that you can use it to grow a tech project  such as web app incredibily quickly\n",
    "It is flexible, lightweight,easy to negotiate ,documentation,maintenance cost is low"
   ]
  },
  {
   "cell_type": "code",
   "execution_count": null,
   "id": "78c6964d-465f-4ff9-b97c-9ad98576c73f",
   "metadata": {},
   "outputs": [],
   "source": []
  },
  {
   "cell_type": "markdown",
   "id": "2d8aaaec-d604-473d-b77f-7f9ab801fe22",
   "metadata": {},
   "source": [
    "Question2. Create a simple flask application to display 'Hello World!!'.Attach the screenshot of the output in jupyter notebook."
   ]
  },
  {
   "cell_type": "code",
   "execution_count": 9,
   "id": "adbd5836-ac76-48a9-82c2-5056ed31c62f",
   "metadata": {},
   "outputs": [
    {
     "ename": "ModuleNotFoundError",
     "evalue": "No module named 'flask'",
     "output_type": "error",
     "traceback": [
      "\u001b[0;31m---------------------------------------------------------------------------\u001b[0m",
      "\u001b[0;31mModuleNotFoundError\u001b[0m                       Traceback (most recent call last)",
      "Cell \u001b[0;32mIn[9], line 3\u001b[0m\n\u001b[1;32m      1\u001b[0m \u001b[38;5;66;03m## ans\u001b[39;00m\n\u001b[0;32m----> 3\u001b[0m \u001b[38;5;28;01mfrom\u001b[39;00m \u001b[38;5;21;01mflask\u001b[39;00m \u001b[38;5;28;01mimport\u001b[39;00m flask\n\u001b[1;32m      5\u001b[0m app\u001b[38;5;241m=\u001b[39mFlask(\u001b[38;5;18m__name__\u001b[39m)\n\u001b[1;32m      7\u001b[0m \u001b[38;5;129m@app\u001b[39m\u001b[38;5;241m.\u001b[39mroute(\u001b[38;5;124m\"\u001b[39m\u001b[38;5;124m/\u001b[39m\u001b[38;5;124m\"\u001b[39m)\n\u001b[1;32m      8\u001b[0m \u001b[38;5;28;01mdef\u001b[39;00m \u001b[38;5;21mhello_world\u001b[39m():\n",
      "\u001b[0;31mModuleNotFoundError\u001b[0m: No module named 'flask'"
     ]
    }
   ],
   "source": [
    "## ans\n",
    "\n",
    "from flask import flask\n",
    "\n",
    "app=Flask(__name__)\n",
    "\n",
    "@app.route(\"/\")\n",
    "def hello_world():\n",
    "    return \"hello world!\"\n",
    "\n",
    "if __name__==\"__main__\":\n",
    "    app.run(host=\"0.0.0.0\")\n",
    "    \n",
    "    \n",
    "    ##https://salmon-carpenter-yzxgg.pwskills.app:5000\n",
    "    "
   ]
  },
  {
   "cell_type": "raw",
   "id": "9f37853c-a098-433c-8057-29aec0ce39d3",
   "metadata": {},
   "source": [
    "Question3. What is App routing in Flask? why do we use app routes?"
   ]
  },
  {
   "cell_type": "raw",
   "id": "4073bc3d-9dbc-41b2-837b-3da880c2f437",
   "metadata": {},
   "source": [
    "ans.\n",
    "App routing means mapping the URLs to a specific function that will handle the logic for that URL. Modern web frameworkd use more meaningful URLs to help users remember the URL and make navigation simpler.\n",
    "example the URL(\"/\") is associated with the root URL.\n",
    "\n",
    "##reasson to use app route:\n",
    "1. The route () decorator in flask is used to bind an URL to a function.As a result when the URL is mentioned in the browser,the function is executed to give the result.Here ,URL'Hello' rule is bound to the Hello_world()function."
   ]
  },
  {
   "cell_type": "code",
   "execution_count": null,
   "id": "31a073b3-b09f-4dd2-934a-73930127525c",
   "metadata": {},
   "outputs": [],
   "source": []
  },
  {
   "cell_type": "raw",
   "id": "5be3d561-f42e-464b-bcba-322c20082f28",
   "metadata": {},
   "source": [
    "Question4. Create a \"/welcome\" route to display the welcome message \" Welcome to ABC Corporation\" and a \"/\" route to show the following details:\n",
    "    Company Name:ABC Corporation\n",
    "    Location : India\n",
    "    Contact Details:999-999-999\n",
    "    Attach the screenshot of the output in jupyter Notebook."
   ]
  },
  {
   "cell_type": "code",
   "execution_count": 10,
   "id": "1e588dae-f4da-4da7-a752-f85422794ff8",
   "metadata": {},
   "outputs": [
    {
     "ename": "SyntaxError",
     "evalue": "invalid syntax (699565414.py, line 29)",
     "output_type": "error",
     "traceback": [
      "\u001b[0;36m  Cell \u001b[0;32mIn[10], line 29\u001b[0;36m\u001b[0m\n\u001b[0;31m    links:\u001b[0m\n\u001b[0m          ^\u001b[0m\n\u001b[0;31mSyntaxError\u001b[0m\u001b[0;31m:\u001b[0m invalid syntax\n"
     ]
    }
   ],
   "source": [
    "##ans\n",
    "from flask import Flask\n",
    "from flask import request\n",
    "\n",
    "app = Flask(__name__)\n",
    "\n",
    "\n",
    "@app.route(\"/\")\n",
    "def welcome():\n",
    "    return \"Welcome to ABC Corporation\"\n",
    "\n",
    "\n",
    "@app.route(\"/Company\")\n",
    "def Company_name():\n",
    "    return \"Company_name:ABC Corporation\"\n",
    "\n",
    "@app.route(\"/Location\")\n",
    "def Location():\n",
    "    return \"Location:India\" \n",
    "\n",
    "@app.route(\"/contact\")\n",
    "def Contact_Details():\n",
    "    return \"Contact_Details:999-999-999\"       \n",
    "\n",
    "if __name__==\"__main__\":\n",
    "    app.run(host=\"0.0.0.0\")\n",
    "    \n",
    "    \n",
    "    links:\n",
    "        from flask import Flask\n",
    "from flask import request\n",
    "\n",
    "app = Flask(__name__)\n",
    "\n",
    "\n",
    "@app.route(\"/\")\n",
    "def welcome():\n",
    "    return \"Welcome to ABC Corporation\"\n",
    "\n",
    "\n",
    "@app.route(\"/Company\")\n",
    "def Company_name():\n",
    "    return \"Company_name:ABC Corporation\"\n",
    "\n",
    "@app.route(\"/Location\")\n",
    "def Location():\n",
    "    return \"Location:India\" \n",
    "\n",
    "@app.route(\"/contact\")\n",
    "def Contact_Details():\n",
    "    return \"Contact_Details:999-999-999\"       \n",
    "\n",
    "if __name__==\"__main__\":\n",
    "    app.run(host=\"0.0.0.0\")\n",
    "    \n",
    "    \n",
    "    \n",
    "    links\n",
    "    https://salmon-carpenter-yzxgg.pwskills.app:5000/Company\n",
    "      https://salmon-carpenter-yzxgg.pwskills.app:5000/welcome \n",
    "         https://salmon-carpenter-yzxgg.pwskills.app:5000/Location\n",
    "             https://salmon-carpenter-yzxgg.pwskills.app:5000/contact"
   ]
  },
  {
   "cell_type": "raw",
   "id": "e1998dcf-c7d7-47b6-a53b-e69887262530",
   "metadata": {},
   "source": [
    "Question5, \n",
    "what function is used in flask for URL building? Write a python code to demonstrate the working of the URL for() function."
   ]
  },
  {
   "cell_type": "raw",
   "id": "201f4206-3492-410b-b159-cab9a827cc33",
   "metadata": {},
   "source": [
    "ans,\n",
    "To build a URL to a specific function , use the URL_()function. It accepts the name of the function as its first argument and any number of keywords arguments,each corresponding to a variable part of the URL rules.\n",
    "URL is a language independent and follow https.\n",
    "example-\n"
   ]
  },
  {
   "cell_type": "code",
   "execution_count": null,
   "id": "30c4b993-e986-40b7-a5ec-f658d6151825",
   "metadata": {},
   "outputs": [],
   "source": [
    "from flask import Flask\n",
    "from flask import request\n",
    "\n",
    "@app.route('/input_url')\n",
    "def request_input():\n",
    "    data=request.arg.get(\"s\")\n",
    "    return \"this is my first input from url{}\".format(data)\n",
    "\n",
    "if__name__==\"__main__\":\n",
    "    app.run(host=\"0.0.0.0\")\n",
    "    \n",
    "    "
   ]
  }
 ],
 "metadata": {
  "kernelspec": {
   "display_name": "Python 3 (ipykernel)",
   "language": "python",
   "name": "python3"
  },
  "language_info": {
   "codemirror_mode": {
    "name": "ipython",
    "version": 3
   },
   "file_extension": ".py",
   "mimetype": "text/x-python",
   "name": "python",
   "nbconvert_exporter": "python",
   "pygments_lexer": "ipython3",
   "version": "3.10.8"
  }
 },
 "nbformat": 4,
 "nbformat_minor": 5
}
