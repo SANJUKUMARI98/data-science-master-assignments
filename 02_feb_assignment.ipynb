{
 "cells": [
  {
   "cell_type": "markdown",
   "id": "ed7f7db1-d74d-4340-b06d-65da3af11bcb",
   "metadata": {},
   "source": [
    "Q1. What are the characteristics of the tuples? Is tuple immutable?"
   ]
  },
  {
   "cell_type": "markdown",
   "id": "25db09bf-0bfe-4005-b438-dfa89c815d32",
   "metadata": {},
   "source": [
    "ans"
   ]
  },
  {
   "cell_type": "raw",
   "id": "c7b64411-41e2-4623-ba66-7ecdf6ad0e9c",
   "metadata": {},
   "source": [
    "Characteristics of Tuples:\n",
    "  1. Tuples are similar to lists, but they are immutable, meaning their values cannot be changed once defined.\n",
    "  2. Tuples are defined using parenthesis instead of square brackets used for lists.\n",
    "   3.They are ordered,meaning the order of elements in a tuple is maintained.\n",
    "   4.They can store any type of data ,including strings,integers,floats and even other tuples.\n",
    "    \n",
    "    Yes, tuples are immutable."
   ]
  },
  {
   "cell_type": "markdown",
   "id": "10df0435-2473-4e09-93b7-ccb5f997b5cf",
   "metadata": {},
   "source": [
    "Q2. What are the two tuple methods in python? Give an example of each method. Give a reason why\n",
    "tuples have only two in-built methods as compared to Lists."
   ]
  },
  {
   "cell_type": "markdown",
   "id": "c199e5a1-c04d-4b4c-b03c-6c01b3e0c54d",
   "metadata": {},
   "source": [
    "ans"
   ]
  },
  {
   "cell_type": "code",
   "execution_count": 14,
   "id": "c8049e5e-be1d-4600-8be1-1588a61a6f03",
   "metadata": {},
   "outputs": [
    {
     "name": "stdout",
     "output_type": "stream",
     "text": [
      "(1, 2, 3, 4, 2, 5, 2)\n",
      "1\n",
      "3\n"
     ]
    }
   ],
   "source": [
    "## Tuples have only two in-built methods as compared to lists because tuples are immutable,so they do not require methods like append(),insert(),remove() etc.\n",
    "''' \n",
    "count() : This method returns the number of times a specified element appears in\n",
    "a tuples.\n",
    "index() : This method returns the index of the first occurrence of a\n",
    "specified element in a tuple.\n",
    "'''\n",
    "tuple=(1,2,3,4,2 ,5 ,2)\n",
    "print(tuple)\n",
    "print(tuple.index(2))\n",
    "print(tuple.count(2))"
   ]
  },
  {
   "cell_type": "markdown",
   "id": "2d8b928c-b787-4c8f-8f39-2f9b15fff4e9",
   "metadata": {},
   "source": [
    "Q3. Which collection datatypes in python do not allow duplicate items? \n",
    "Write a code using a set to remove\n",
    "duplicates from the given list.\n",
    "List = [1, 1, 1, 2, 1, 3, 1, 4, 2, 1, 2, 2, 2, 3, 2, 4, 3, 1, 3, 2, 3, 3, 3, 4, 4, 1, 4, 2, 4, 3, 4, 4]"
   ]
  },
  {
   "cell_type": "markdown",
   "id": "4d2e6aac-57cc-4b41-aafe-e71b94ad4d7b",
   "metadata": {},
   "source": [
    "ans"
   ]
  },
  {
   "cell_type": "code",
   "execution_count": 73,
   "id": "4e59f217-b58d-4a8b-964d-6500b4747766",
   "metadata": {},
   "outputs": [
    {
     "data": {
      "text/plain": [
       "{1, 2, 3, 4}"
      ]
     },
     "execution_count": 73,
     "metadata": {},
     "output_type": "execute_result"
    }
   ],
   "source": [
    "## sets are the datatypes in pythonn which remove the duplicate items .\n",
    "set={1, 1, 1, 2, 1, 3, 1, 4, 2, 1, 2, 2, 2, 3, 2, 4, 3, 1, 3, 2, 3, 3, 3, 4, 4, 1, 4, 2, 4, 3, 4, 4}\n",
    "set"
   ]
  },
  {
   "cell_type": "code",
   "execution_count": null,
   "id": "566aba9f-2fca-4c09-bbba-d65afd4cd130",
   "metadata": {},
   "outputs": [],
   "source": []
  },
  {
   "cell_type": "code",
   "execution_count": null,
   "id": "be4634c7-9c8a-499e-a7b4-1c73ee3bcc37",
   "metadata": {},
   "outputs": [],
   "source": []
  },
  {
   "cell_type": "markdown",
   "id": "1da5b5e6-7e95-4cd9-8f17-0a33185caedd",
   "metadata": {},
   "source": [
    "Q4. Explain the difference between the union() and update() methods for a set. Give an example of\n",
    "each method.\n"
   ]
  },
  {
   "cell_type": "code",
   "execution_count": 49,
   "id": "d84b45e8-f500-4831-b268-96d47d2ca9bf",
   "metadata": {},
   "outputs": [
    {
     "name": "stdout",
     "output_type": "stream",
     "text": [
      "{1, 2, 3, 4, 5}\n",
      "None\n"
     ]
    }
   ],
   "source": [
    "# union(): This method returns a new set containing all the unique elements from both sets.it does not modify the original sets.\n",
    "\n",
    "#example\n",
    "set1={1,2,3}\n",
    "set2={3,4,5}\n",
    "union=set1.union(set2)\n",
    "print(union)\n",
    "\n",
    "# update(): This method adds all the unique elements from one set to another set.It modifies the original set.\n",
    "# example \n",
    "update=set1.update(set2)\n",
    "print(update)"
   ]
  },
  {
   "cell_type": "markdown",
   "id": "ef436e0e-a95e-41ee-be51-30457789e362",
   "metadata": {},
   "source": [
    "Q5. What is a dictionary? Give an example. Also, state whether a dictionary is ordered or unordered."
   ]
  },
  {
   "cell_type": "code",
   "execution_count": 54,
   "id": "2a096441-1a06-4d81-9f06-27452fa3d1cc",
   "metadata": {},
   "outputs": [
    {
     "data": {
      "text/plain": [
       "dict_values(['sanju', 23, 'new york'])"
      ]
     },
     "execution_count": 54,
     "metadata": {},
     "output_type": "execute_result"
    }
   ],
   "source": [
    "''' \n",
    "A dictionary is a collection datatype in python that stores key-value pairs. \n",
    "Each key id unique and maps to a corresponding value. A dictionary id defined using curly \n",
    "braces {} and colons to separate the keys and values.\n",
    "example'''\n",
    "d={'name':'sanju','age':23,'city':'new york'}\n",
    "d.keys()\n",
    "d.values()\n",
    "\n",
    "''' Dictionaries in python are unordered ,meaning the order of the elementd \n",
    "is not guaranted.\n",
    "'''"
   ]
  },
  {
   "cell_type": "markdown",
   "id": "6758803d-4f9f-4a22-a751-1eee32868650",
   "metadata": {},
   "source": [
    "Q6. Can we create a nested dictionary? If so, please give an example by creating a simple one-level\n",
    "nested dictionary."
   ]
  },
  {
   "cell_type": "code",
   "execution_count": 58,
   "id": "2fa00605-2e49-4b89-a64a-126779ccdb3c",
   "metadata": {},
   "outputs": [
    {
     "data": {
      "text/plain": [
       "{'name': 'john', 'age': 23}"
      ]
     },
     "execution_count": 58,
     "metadata": {},
     "output_type": "execute_result"
    }
   ],
   "source": [
    "'''\n",
    "Yes, we can create a nested dictionary in python. A nested dictionary is a \n",
    "dictionary that contains another dictionary as its value. Here is an \n",
    "example of a simple one-level nested dictioonary:\n",
    "    '''\n",
    "dic={'person1':{'name':'john','age':23},\n",
    "     'person2':{'name2':'sanju','age':43}\n",
    "    }\n",
    "dic\n",
    "dic['person1']"
   ]
  },
  {
   "cell_type": "markdown",
   "id": "0e56ebc6-03b4-4ca7-b2b7-18fd1dbc5149",
   "metadata": {},
   "source": [
    "Q7. Using setdefault() method, create key named topics in the given dictionary and also add the value of\n",
    "the key as this list ['Python', 'Machine Learning’, 'Deep Learning']\n",
    "dict1 = {'language' : 'Python', 'course': 'Data Science Masters'}"
   ]
  },
  {
   "cell_type": "code",
   "execution_count": 59,
   "id": "f7c3f967-e710-4a8f-a09f-c111e9b71e87",
   "metadata": {},
   "outputs": [
    {
     "name": "stdout",
     "output_type": "stream",
     "text": [
      "{'language': 'Python', 'course': 'Data Science Masters', 'topics': ['Python', 'Machine Learning', 'Deep Learning']}\n"
     ]
    }
   ],
   "source": [
    "dict1 = {'language' : 'Python', 'course': 'Data Science Masters'}\n",
    "dict1.setdefault('topics',['Python','Machine Learning','Deep Learning'])\n",
    "print(dict1)"
   ]
  },
  {
   "cell_type": "markdown",
   "id": "a19be531-3a04-4a18-8b14-71fbb63b5cec",
   "metadata": {},
   "source": [
    "Q8. What are the three view objects in dictionaries? Use the three in-built methods in python to display\n",
    "these three view objects for the given dictionary.\n",
    "dict1 = {'Sport': 'Cricket' , 'Teams': ['India', 'Australia', 'England', 'South Africa', 'Sri Lanka', 'New Zealand']}"
   ]
  },
  {
   "cell_type": "markdown",
   "id": "f1482a8e-879f-4faf-b355-e4e6ba2150c9",
   "metadata": {},
   "source": [
    "ans"
   ]
  },
  {
   "cell_type": "code",
   "execution_count": 63,
   "id": "dc912dcb-5a8a-4941-81f2-8db53702df12",
   "metadata": {},
   "outputs": [
    {
     "name": "stdout",
     "output_type": "stream",
     "text": [
      "dict_keys(['Sport', 'Teams'])\n",
      "dict_values(['Cricket', ['India', 'Australia', 'England', 'South Africa', 'Sri Lanka', 'New Zealand']])\n",
      "dict_items([('Sport', 'Cricket'), ('Teams', ['India', 'Australia', 'England', 'South Africa', 'Sri Lanka', 'New Zealand'])])\n"
     ]
    }
   ],
   "source": [
    "'''The three view objects in python dictionaries are:\n",
    "1 dict.keys() : This method returns a view object of the keys in the dictionary.\n",
    "2 dict.values() : This method returns a view object  of the values in the dictionary.\n",
    "3. dict.items() : This method returns a view object of the key-value pairs in the dictionary as tuples.'''\n",
    "\n",
    "dict1 = {'Sport': 'Cricket' , 'Teams': ['India', 'Australia', 'England', 'South Africa', 'Sri Lanka', 'New Zealand']}\n",
    "keys_view=dict1.keys()\n",
    "values_views=dict1.values()\n",
    "items_views=dict1.items()\n",
    "\n",
    "print(keys_view)\n",
    "print(values_views)\n",
    "print(items_views)"
   ]
  },
  {
   "cell_type": "code",
   "execution_count": null,
   "id": "f7ade5da-ca05-4334-aa7e-7cf6b9ecc508",
   "metadata": {},
   "outputs": [],
   "source": []
  }
 ],
 "metadata": {
  "kernelspec": {
   "display_name": "Python 3 (ipykernel)",
   "language": "python",
   "name": "python3"
  },
  "language_info": {
   "codemirror_mode": {
    "name": "ipython",
    "version": 3
   },
   "file_extension": ".py",
   "mimetype": "text/x-python",
   "name": "python",
   "nbconvert_exporter": "python",
   "pygments_lexer": "ipython3",
   "version": "3.10.8"
  }
 },
 "nbformat": 4,
 "nbformat_minor": 5
}
