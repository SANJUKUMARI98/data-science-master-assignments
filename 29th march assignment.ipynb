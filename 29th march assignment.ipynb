{
 "cells": [
  {
   "cell_type": "markdown",
   "id": "264cc832-bbd1-4664-b551-2bce36a0d9b4",
   "metadata": {},
   "source": [
    "# 29th march assignment"
   ]
  },
  {
   "cell_type": "markdown",
   "id": "efbdc2c2-073c-48c0-a26e-230a3cf72b3f",
   "metadata": {},
   "source": [
    "Q1. What is Lasso Regression, and how does it differ from other regression techniques?"
   ]
  },
  {
   "cell_type": "markdown",
   "id": "be45e574-70f2-4d5a-bce0-967601ccd40b",
   "metadata": {},
   "source": [
    "answer"
   ]
  },
  {
   "cell_type": "raw",
   "id": "5f8c5a34-5d13-40e9-ba1d-9d943a75c761",
   "metadata": {},
   "source": [
    "Lasso Regression : Lasso regression is a linear regression mode that uses\n",
    "the regularization to prevent the overfitting of  the model.\n",
    "\n",
    "It does this by adding a penalty term to the cost function that encourages the \n",
    "model to use fewer features .This penalty term is based on the \n",
    "L1 norm of the model coefficients.\n",
    "if lambda  increases ,decrease in slope and approaches to zero and remove the less corelated features from the \n",
    "model."
   ]
  },
  {
   "cell_type": "markdown",
   "id": "7b2110cd-e70e-4a21-b52d-06d61cfc99b7",
   "metadata": {},
   "source": [
    "Q2. What is the main advantage of using Lasso Regression in feature selection?"
   ]
  },
  {
   "cell_type": "markdown",
   "id": "90ff50d2-5bad-4a43-8eb6-570e6b780501",
   "metadata": {},
   "source": [
    "answer"
   ]
  },
  {
   "cell_type": "raw",
   "id": "a56d5428-6738-4e7d-8d57-d4c7704abf20",
   "metadata": {},
   "source": [
    "The main advantage of using lasso regression in feature selection is to :\n",
    "    1.it reduce the overfitting problem  by removing the less correlated features \n",
    "    from model.\n",
    "    2 It adds penalty term which is based on the L1 norm of the model coeffiecients."
   ]
  },
  {
   "cell_type": "markdown",
   "id": "c9ac6417-7edd-4273-a51e-0f2fee617fff",
   "metadata": {},
   "source": [
    "Q3. How do you interpret the coefficients of a Lasso Regression model?"
   ]
  },
  {
   "cell_type": "markdown",
   "id": "eb0d0128-dd02-45db-8a18-03a325c6063e",
   "metadata": {},
   "source": [
    "answer"
   ]
  },
  {
   "cell_type": "raw",
   "id": "21f3b799-0832-4e46-a655-c2a5f6b3e7c2",
   "metadata": {},
   "source": [
    "Lasso regression is sensitive to the scale of the features which means that\n",
    "it can give different importance to feature based on their scale.To\n",
    "avoid this problem it is recommended to scale the feature before applying lasso\n",
    "regression.\n",
    "it can select the most important feature in the model by shrinking the coefficients of\n",
    "less important features towards zero. this helps to simplify the model and reduce the risk of overfitting.\n",
    "\n",
    "Lambda is a regularization parameter is a hyperparameter of lasso regression that\n",
    "controls the strength of regularization penalty.A larger value of parameter will \n",
    "result in a stronger penalt ,which will encorage the model to use fewer feature. "
   ]
  },
  {
   "cell_type": "markdown",
   "id": "cc53f368-9265-4b73-b238-e888d1a159df",
   "metadata": {},
   "source": [
    "Q4. What are the tuning parameters that can be adjusted in Lasso Regression, and how do they affect the\n",
    "model's performance?"
   ]
  },
  {
   "cell_type": "markdown",
   "id": "5a9f18bf-2c25-4c94-9d09-83497e90dd74",
   "metadata": {},
   "source": [
    "answer"
   ]
  },
  {
   "cell_type": "raw",
   "id": "2b2a5874-1199-4140-b3b4-fac9927ea036",
   "metadata": {},
   "source": [
    "lambda is the regularization parameter which controls the amount of shrinkage applied\n",
    "to the regression coefficients.\n",
    "\n",
    "increasing the regularization parameter in lasso regression shrinks the \n",
    "coefficents closer to zero,which reduces the complexity of  model and can help to prevent \n",
    "overfitting .However too much regularization can cause underfitting,where model\n",
    "is too simple and cannot capture the complexity of the data."
   ]
  },
  {
   "cell_type": "markdown",
   "id": "a80e8344-007e-44b8-b1a4-beb444cd270c",
   "metadata": {},
   "source": [
    "Q5. Can Lasso Regression be used for non-linear regression problems? If yes, how?"
   ]
  },
  {
   "cell_type": "markdown",
   "id": "c6afd9ac-2277-486a-b0d7-26a63845a608",
   "metadata": {},
   "source": [
    "Answer"
   ]
  },
  {
   "cell_type": "raw",
   "id": "e60b9f08-01cf-4bc1-82f3-0330a97b148c",
   "metadata": {},
   "source": [
    "Yes ,the non-linear regression problem can also be solved by lasso regression.\n",
    "\n",
    "we can transform independent variables using non-linear functions like logarithmetic ,\n",
    "exponential,or power functions and capturew the non -linear relationship between the \n",
    "variables in linear form and can use lasso regression on them.\n",
    "\n",
    "Kernel method  :  Kernel methods are a type of machine learning technique that can be used\n",
    "to transform the input data into higher dimensionsl feature space, where the\n",
    "non-linear relationship between variable s can be captured in a linear form.\n",
    "the transformed data can then be modeled using Lasso regression."
   ]
  },
  {
   "cell_type": "markdown",
   "id": "897b8449-4027-4471-b1ff-04a91183c124",
   "metadata": {},
   "source": [
    "Q6. What is the difference between Ridge Regression and Lasso Regression?"
   ]
  },
  {
   "cell_type": "markdown",
   "id": "1b0f4f04-9808-48d4-a3af-c159a97f938a",
   "metadata": {},
   "source": [
    "answer"
   ]
  },
  {
   "cell_type": "raw",
   "id": "ce6b37f9-d27e-492f-b3e6-2b9f25187213",
   "metadata": {},
   "source": [
    "Both are commonly used for regularization(reduce overfitting) in linear regression model.\n",
    "\n",
    "1.Regularization : \n",
    "    ridge regression is also known as L2 regularization which adds penalty term to the \n",
    "    sum of squared values of coefficients.\n",
    "    lasso regularization  is also known as L1 regularization which adds penalty term to \n",
    "    the sum of absolute values of the coefficients.\n",
    "    \n",
    "    Feature selection : fi\n",
    "         ridge regression does not shrink the value of coefficient to be\n",
    "        exactly zero,which means that all features are retained in the model,albeit with  reduced\n",
    "        weight \n",
    "        \n",
    "        lasso regression shrinks the coefficient to zero and then remove that\n",
    "        less correlated features from the model.\n",
    "        \n",
    "        Coefficient shrinkage : both use coeffiecient shrinkage to reduce  the\n",
    "        impact of individual coefficient on the model.\n",
    "        However, the way they perform shrinkage is different. Ridge Regression shrinks the coefficients towards zero, but does not eliminate them entirely, while Lasso Regression can eliminate some coefficients entirely by setting them to zero."
   ]
  },
  {
   "cell_type": "markdown",
   "id": "4e716821-9b42-44ce-a5f4-bb96f9f07e1a",
   "metadata": {},
   "source": [
    "Q7. Can Lasso Regression handle multicollinearity in the input features? If yes, how?"
   ]
  },
  {
   "cell_type": "markdown",
   "id": "083a1382-8c59-42e0-897e-acd1dc2d15a9",
   "metadata": {},
   "source": [
    "answer"
   ]
  },
  {
   "cell_type": "raw",
   "id": "06ab6b3d-e33e-4174-be00-3ff4bb2ee7c8",
   "metadata": {},
   "source": [
    "Yes, Lasso Regression can handle multicollinearity but it may not completely solve the problem.\n",
    "\n",
    "Multicollinearity occurs when two or more input features are highly correlated with each other, which can lead to unstable and unreliable estimates of the model parameters\n",
    "\n",
    "by adding an L1 penalty term to the objective function, which encourages the model to select only the most important features and discard the redundant ones.\n",
    "\n",
    "However, the extent to which Lasso Regression can handle multicollinearity depends on the degree of correlation between the input features. When the correlation is very high,\n",
    "Lasso may still struggle to select the most important features and produce unstable or unreliable estimates.\n",
    "In such cases, it may be necessary to preprocess the data by removing or transforming the correlated features or using other techniques such as Ridge Regression or Principal Component Analysis (PCA) to handle multicollinearity."
   ]
  },
  {
   "cell_type": "markdown",
   "id": "847c40c8-ce8e-491e-ab54-3890590dc0ac",
   "metadata": {},
   "source": [
    "Q8. How do you choose the optimal value of the regularization parameter (lambda) in Lasso Regression?"
   ]
  },
  {
   "cell_type": "markdown",
   "id": "9d06e85a-89e6-46d2-978a-2cfa7d09258b",
   "metadata": {},
   "source": [
    "ans"
   ]
  },
  {
   "cell_type": "raw",
   "id": "bc7420f4-0b59-4530-b777-c87d15f3f1dc",
   "metadata": {},
   "source": [
    "In Lasso Regression, the regularization parameter (lambda) controls the strength of regularization applied to the model. \n",
    "value of lambda is critical because it affects the model's performance and generalization ability.\n",
    "\n",
    "One common approach to selecting the optimal lambda value is to use cross-validation. \n",
    "Cross-validation involves partitioning the data into training and validation sets, fitting the model on the training set, and evaluating its performance on the validation set.\n",
    "This process is repeated for different values of lambda, and the lambda that yields the best performance on the validation set is selected as the optimal value.\n",
    "\n"
   ]
  }
 ],
 "metadata": {
  "kernelspec": {
   "display_name": "Python 3 (ipykernel)",
   "language": "python",
   "name": "python3"
  },
  "language_info": {
   "codemirror_mode": {
    "name": "ipython",
    "version": 3
   },
   "file_extension": ".py",
   "mimetype": "text/x-python",
   "name": "python",
   "nbconvert_exporter": "python",
   "pygments_lexer": "ipython3",
   "version": "3.10.8"
  }
 },
 "nbformat": 4,
 "nbformat_minor": 5
}
