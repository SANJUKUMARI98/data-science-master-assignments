{
 "cells": [
  {
   "cell_type": "markdown",
   "metadata": {},
   "source": [
    "# 11 april assignments"
   ]
  },
  {
   "cell_type": "markdown",
   "metadata": {},
   "source": []
  },
  {
   "cell_type": "markdown",
   "metadata": {},
   "source": [
    "Q1. What is an ensemble technique in machine learning?"
   ]
  },
  {
   "cell_type": "markdown",
   "metadata": {},
   "source": [
    "Answer \n",
    " In ensemble technique,we combine multiplie models with multiple machine learning algorithm  and train every \n",
    " model with differenent sample dataset (Bootstrap) and output given by different models \n",
    "  and predict the test dataset.\n",
    "\n",
    "  In learning models, noise, variance, and bias are the major sources of error. The ensemble methods in machine learning help minimize these error-causing factors, thereby ensuring the accuracy and stability of machine learning (ML) algorithms."
   ]
  },
  {
   "cell_type": "markdown",
   "metadata": {},
   "source": [
    "Q2. Why are ensemble techniques used in machine learning?"
   ]
  },
  {
   "cell_type": "markdown",
   "metadata": {},
   "source": [
    "Answer  To get more accurate prediction  we use ensemble technique in machine learning.\n",
    "In learning models, noise, variance, and bias are the major sources of error. The ensemble methods in machine learning help minimize these error-causing factors, thereby ensuring the accuracy and stability of machine learning (ML) algorithms."
   ]
  },
  {
   "cell_type": "markdown",
   "metadata": {},
   "source": [
    "Q3. What is bagging?"
   ]
  },
  {
   "cell_type": "markdown",
   "metadata": {},
   "source": [
    "Answer\n",
    "\n",
    "In ensemble technique in machine learning,we combine different  model and train it with the sample data. This is called bagging.\n",
    "\n",
    "Bagging (Bootstrap Aggregating): The primary goal of \"bagging\" or \"bootstrap aggregating\" ensemble method is to minimize variance errors in decision trees. The objective here is to randomly create samples of training datasets with replacement (subsets of the training data). The subsets are then used for training decision trees or models. Consequently, there is a combination of multiple models, which reduces variance, as the average prediction generated from different models is much more reliable and robust than a single model or a decision tree."
   ]
  },
  {
   "cell_type": "markdown",
   "metadata": {},
   "source": [
    "Q4. What is boosting?"
   ]
  },
  {
   "cell_type": "markdown",
   "metadata": {},
   "source": [
    "answer\n",
    "\n",
    "Boosting: An iterative ensemble technique, \"boosting,\" adjusts an observation's weight based on its last classification. In case observation is incorrectly classified, \"boosting\" increases the observation's weight, and vice versa. Boosting algorithms reduce bias errors and produce superior predictive models.\n",
    "\n",
    "In the boosting ensemble method, data scientists train the first boosting algorithm on an entire dataset and then build subsequent algorithms by fitting residuals from the first boosting algorithm, thereby giving more weight to observations that the previous model predicted inaccurately.\n",
    "\n"
   ]
  },
  {
   "cell_type": "markdown",
   "metadata": {},
   "source": [
    "Q5. What are the benefits of using ensemble techniques?"
   ]
  },
  {
   "cell_type": "markdown",
   "metadata": {},
   "source": [
    "Answer\n",
    "it is less prone to overfitting and accuracy is good like a generalised model."
   ]
  },
  {
   "cell_type": "markdown",
   "metadata": {},
   "source": [
    "Q6. Are ensemble techniques always better than individual models?"
   ]
  },
  {
   "cell_type": "markdown",
   "metadata": {},
   "source": [
    "answer \n",
    "\n",
    "yes , it is better than the individula models because it become expert with the different dataset and give good performance and accuracy."
   ]
  },
  {
   "cell_type": "markdown",
   "metadata": {},
   "source": [
    "Q7. How is the confidence interval calculated using bootstrap?"
   ]
  },
  {
   "cell_type": "markdown",
   "metadata": {},
   "source": [
    "Bootstrap is a resampling method used to estimate the sampling distribution of a statistic, such as the mean or standard deviation, from a sample. To calculate a confidence interval using bootstrap, you would follow these steps:\n",
    "\n",
    "Take a random sample of size n from the population.\n",
    "Using this sample, calculate the statistic of interest, such as the sample mean or standard deviation.\n",
    "Repeat steps 1 and 2 B times, where B is a large number (often thousands) of bootstrap samples.\n",
    "From the B bootstrap statistics, calculate the mean and standard deviation.\n",
    "Construct the confidence interval by finding the lower and upper bounds of the middle 95% (or other desired percentage) of the bootstrap distribution. This can be done by finding the 2.5th and 97.5th percentiles of the distribution.\n",
    "For example, if you were interested in calculating a 95% confidence interval for the mean of a population, you would take B random samples from the population, calculate the mean for each sample, and then find the 2.5th and 97.5th percentiles of the B bootstrap means. These percentiles would be used as the lower and upper bounds of the 95% confidence interval.\n",
    "\n"
   ]
  },
  {
   "cell_type": "markdown",
   "metadata": {},
   "source": [
    "Q8. How does bootstrap work and What are the steps involved in bootstrap?"
   ]
  },
  {
   "cell_type": "markdown",
   "metadata": {},
   "source": [
    "Bootstrap is a resampling method that is used to estimate the sampling distribution of a statistic from a sample. The basic idea behind bootstrap is to repeatedly sample from the original data set to create new, simulated data sets, and then use these simulated data sets to estimate the statistic of interest.\n",
    "\n",
    "The steps involved in bootstrap are as follows:\n",
    "\n",
    "Take a random sample of size n from the original data set.\n",
    "Using this sample, calculate the statistic of interest (e.g., the mean, median, variance, etc.).\n",
    "Repeat steps 1 and 2 a large number of times (e.g., 1,000 or 10,000 times) to create a set of bootstrap statistics.\n",
    "Calculate the mean and standard deviation of the bootstrap statistics.\n",
    "Construct the confidence interval for the statistic of interest by finding the appropriate percentiles of the bootstrap distribution.\n",
    "The bootstrap method works because the repeated sampling from the original data set allows us to estimate the variability of the statistic of interest without making assumptions about the distribution of the population. By using the simulated data sets, we can estimate the sampling distribution of the statistic of interest, which in turn allows us to estimate the standard error and construct confidence intervals.\n",
    "\n",
    "Bootstrap is a powerful and flexible method that can be applied to a wide range of statistical problems. It is especially useful when the sample size is small or when the data do not follow a known distribution. However, it is important to remember that bootstrap is not a substitute for good study design or proper statistical analysis."
   ]
  },
  {
   "cell_type": "markdown",
   "metadata": {},
   "source": [
    "Q9. A researcher wants to estimate the mean height of a population of trees. They measure the height of a\n",
    "sample of 50 trees and obtain a mean height of 15 meters and a standard deviation of 2 meters. Use\n",
    "bootstrap to estimate the 95% confidence interval for the population mean height."
   ]
  },
  {
   "cell_type": "markdown",
   "metadata": {},
   "source": [
    "To estimate the 95% confidence interval for the population mean height of trees using bootstrap, we can follow these steps:\n",
    "\n",
    "Resample the original sample with replacement to create many bootstrap samples of size 50.\n",
    "For each bootstrap sample, calculate the sample mean height.\n",
    "Repeat step 2 many times (e.g., 10,000 times) to create a bootstrap distribution of sample means.\n",
    "Calculate the mean and standard deviation of the bootstrap distribution of sample means.\n",
    "Find the 2.5th and 97.5th percentiles of the bootstrap distribution of sample means to obtain the lower and upper bounds of the 95% confidence interval for the population mean height.\n",
    "Here's how to apply these steps to the given problem:\n",
    "\n",
    "Generate many bootstrap samples of size 50 by resampling the original sample with replacement. We can use a computer program or spreadsheet to automate this process. For example, we could generate 10,000 bootstrap samples of size 50.\n",
    "For each bootstrap sample, calculate the sample mean height. We can do this using a calculator or spreadsheet. For example, if one bootstrap sample has heights of 14.5, 15.2, 14.8, 16.0, ..., we would calculate the sample mean height as (14.5 + 15.2 + 14.8 + 16.0 + ...) / 50 = X̄.\n",
    "Repeat step 2 many times to create a bootstrap distribution of sample means. We should end up with a list of 10,000 sample means, one for each bootstrap sample.\n",
    "Calculate the mean and standard deviation of the bootstrap distribution of sample means. For example, if the list of 10,000 sample means has a mean of 15.01 meters and a standard deviation of 0.28 meters.\n",
    "Find the 2.5th and 97.5th percentiles of the bootstrap distribution of sample means to obtain the lower and upper bounds of the 95% confidence interval for the population mean height. For example, the 2.5th and 97.5th percentiles of the bootstrap distribution may be 14.46 and 15.57 meters, respectively.\n",
    "Therefore, the 95% confidence interval for the population mean height of trees is (14.46, 15.57) meters. This means we can be 95% confident that the true population mean height of trees falls within this interval.\n",
    "\n",
    "\n",
    "\n",
    "\n",
    "\n"
   ]
  },
  {
   "cell_type": "markdown",
   "metadata": {},
   "source": []
  }
 ],
 "metadata": {
  "kernelspec": {
   "display_name": "Python 3.8.10 64-bit",
   "language": "python",
   "name": "python3"
  },
  "language_info": {
   "codemirror_mode": {
    "name": "ipython",
    "version": 3
   },
   "file_extension": ".py",
   "mimetype": "text/x-python",
   "name": "python",
   "nbconvert_exporter": "python",
   "pygments_lexer": "ipython3",
   "version": "3.8.10"
  },
  "orig_nbformat": 4,
  "vscode": {
   "interpreter": {
    "hash": "e7370f93d1d0cde622a1f8e1c04877d8463912d04d973331ad4851f04de6915a"
   }
  }
 },
 "nbformat": 4,
 "nbformat_minor": 2
}
