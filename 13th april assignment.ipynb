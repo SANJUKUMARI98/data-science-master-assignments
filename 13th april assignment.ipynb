{
 "cells": [
  {
   "cell_type": "markdown",
   "metadata": {},
   "source": [
    "# 13 th april assignment"
   ]
  },
  {
   "cell_type": "markdown",
   "metadata": {},
   "source": [
    "Q1. What is Random Forest Regressor?"
   ]
  },
  {
   "cell_type": "markdown",
   "metadata": {},
   "source": [
    "answer\n",
    "\n",
    "It is  a supervised learning algorithm that uses ensemble learning method for regression.In this technique,it combines multiple decision tree for prediction of result than a single decision tree.it gives output as the averaage of all the output of decision tree."
   ]
  },
  {
   "cell_type": "markdown",
   "metadata": {},
   "source": [
    "Q2. How does Random Forest Regressor reduce the risk of overfitting?"
   ]
  },
  {
   "cell_type": "markdown",
   "metadata": {},
   "source": [
    "answer\n",
    "In decision tree the branch get divides unless or untill it gets all the leaf nodes,and it increase the time complexity as well as the overfitting which means high training accuracy but low test accuracy (low bias and high variance).\n",
    "But in random forest regressor it convert into low bias and low variance(generalised model) .there is many base learners which get trained parallely and specialised in some of the features and and get combined to give the final prediction . so, the accuracy must be high.\n"
   ]
  },
  {
   "cell_type": "markdown",
   "metadata": {},
   "source": [
    "Q3. How does Random Forest Regressor aggregate the predictions of multiple decision trees?"
   ]
  },
  {
   "cell_type": "markdown",
   "metadata": {},
   "source": [
    "answer\n",
    "\n",
    "In random forest regression , the training dataset internally gets divided into raw sampling and feature sampling and many models which is decision treee  gets parallely trained  and aggregate all the output and give the average of all the output . all the base learners are speciallised in some feature because it get trained with different features."
   ]
  },
  {
   "cell_type": "markdown",
   "metadata": {},
   "source": [
    "Q4. What are the hyperparameters of Random Forest Regressor?"
   ]
  },
  {
   "cell_type": "markdown",
   "metadata": {},
   "source": [
    "answer\n",
    "\n",
    "There are following hyperparameters of random forest regression are:\n",
    "\n",
    "1.n_estimators: The number of trees in the forest and the default value is 100;\n",
    "\n",
    "2.criterion{“squared_error”, “absolute_error”, “friedman_mse”, “poisson”}, default=”squared_error”\n",
    "it measures the quality of a split.squared error,which is equal to variance reduction as feature selection criterion and minimizes the l2 loss using mean of each terminal node,\n",
    "friedman_mse ,which uses mean squared error with friedman's improvement score for potential splits,\n",
    "absolute error for mean absolute error, which minimizes the l1 loss using the median of each terminal node,\n",
    "poisson ,which uses reduction in poisson deviance to find splits.\n",
    "\n",
    "3 max_depth: the maximum depth of the tree. If none, then nodes are expanded until all leaves are pure or until all leaves contain less than min_samples_split samples.\n",
    "\n",
    "4 min_depth: the minimum number of samples required to split an internal node; default value =2\n",
    "\n",
    "oob_score: these are the data which is not used for training  but it can be used to estimate the generalization  score if oob_score=True."
   ]
  },
  {
   "cell_type": "markdown",
   "metadata": {},
   "source": [
    "Q5. What is the difference between Random Forest Regressor and Decision Tree Regressor?"
   ]
  },
  {
   "cell_type": "markdown",
   "metadata": {},
   "source": [
    "answer\n",
    "\n",
    "In random forest regessor ,multiple decision tree as a base learner parallely trained with different sample of features and get expert in it  and finally gives the average of all the ouput .it gives generalized model\n",
    "\n",
    "In decision tree regressor , a single decision tree get trained and and predict the output and can results in overfitting."
   ]
  },
  {
   "cell_type": "markdown",
   "metadata": {},
   "source": [
    "Q6. What are the advantages and disadvantages of Random Forest Regressor?"
   ]
  },
  {
   "cell_type": "markdown",
   "metadata": {},
   "source": [
    "answer\n",
    "\n",
    "\n",
    "# Advantages of Random Forest Regressor:\n",
    "\n",
    "1 High Accuracy: Random Forest Regressor tends to have higher accuracy compared to single decision tree models, as it mitigates the issue of overfitting by averaging the predictions of multiple trees. It can capture complex patterns in the data and is robust to noisy data.\n",
    "\n",
    "2 Robustness to Outliers and Missing Values: Random Forest Regressor is robust to outliers and missing values, as it makes use of multiple trees and takes an average of their predictions. Outliers or missing values in a small number of samples are unlikely to have a significant impact on the overall predictions.\n",
    "\n",
    "3 Feature Importance: Random Forest Regressor provides a measure of feature importance, which can help in identifying the most relevant features for making accurate predictions. This can be useful in feature selection and feature engineering tasks.\n",
    "\n",
    "4 Non-Linearity: Random Forest Regressor can model non-linear relationships between input features and the target variable effectively. It can capture interactions and non-linearities in the data without the need for explicit feature engineering.\n",
    "\n",
    "5 Scalability: Random Forest Regressor can handle large datasets efficiently, as the training of individual trees can be parallelized. It can also handle datasets with a high number of features without much impact on its performance.\n",
    "\n",
    "# Disadvantages of Random Forest Regressor:\n",
    "\n",
    "1 Overfitting: Although Random Forest Regressor mitigates overfitting compared to single decision tree models, it can still overfit the data if the number of trees in the forest is too high. Overfitting can occur if the trees are too deep and overly complex, or if the number of trees in the forest is very large.\n",
    "\n",
    "2 Interpretability: Random Forest Regressor is a complex model with multiple trees, which can make it difficult to interpret the model and explain the predictions to stakeholders. It may not be suitable for applications where interpretability is a critical requirement.\n",
    "\n",
    "3 Computational Complexity: Random Forest Regressor can be computationally expensive, especially if the number of trees in the forest is large. The training time and prediction time can be longer compared to simpler models like linear regression or decision trees.\n",
    "\n",
    "4 Hyperparameter Tuning: Random Forest Regressor has several hyperparameters, such as the number of trees, tree depth, and feature subset size, which need to be tuned for optimal performance. Finding the optimal hyperparameter values can be time-consuming and may require extensive experimentation.\n",
    "\n",
    "5 Imbalanced Data: Random Forest Regressor can have biased predictions when dealing with imbalanced datasets, where the distribution of the target variable is uneven. It may require additional techniques, such as resampling or cost-sensitive learning, to handle imbalanced data effectively.\n",
    "\n",
    "In summary, Random Forest Regressor has several advantages such as high accuracy, robustness to outliers and missing values, feature importance analysis, ability to model non-linearity, and scalability. However, it also has some disadvantages, including the potential for overfitting, reduced interpretability, computational complexity, hyperparameter tuning requirements, and potential issues with imbalanced data. It is important to carefully consider the specific requirements and characteristics of your dataset and problem when choosing to use Random Forest Regressor or any other machine learning model.\n",
    "\n"
   ]
  },
  {
   "cell_type": "markdown",
   "metadata": {},
   "source": [
    "Q7. What is the output of Random Forest Regressor?"
   ]
  },
  {
   "cell_type": "markdown",
   "metadata": {},
   "source": [
    "answer\n",
    "\n",
    "The output of a Random Forest Regressor is a predicted continuous numerical value, which represents the regression target variable. It predicts the target value based on the input features and the trained ensemble of decision trees in the random forest, taking into account their weighted average or mode of predictions.\n",
    "\n"
   ]
  },
  {
   "cell_type": "markdown",
   "metadata": {},
   "source": [
    "Q8. Can Random Forest Regressor be used for classification tasks?"
   ]
  },
  {
   "cell_type": "markdown",
   "metadata": {},
   "source": [
    "answer\n",
    "\n",
    "where the target variable is a continuous numerical value. However, with slight modifications, Random Forest can also be used for classification tasks.\n",
    " In classification tasks, the target variable is categorical, and Random Forest can be adapted by using techniques such as \"Random Forest Classifier\" or \"Random Forest for Classification\".\n",
    " \n",
    "  These modifications involve using decision trees to split the data based on categorical features, and using techniques such as Gini impurity or entropy as the splitting criteria. Each tree in the forest predicts the class label, and the final prediction is determined by the majority vote or weighted average of the predictions from all the trees. \n",
    "  \n",
    "  However, it's worth noting that there are other dedicated ensemble learning algorithms, such as Random Forest Classifier or Boosting algorithms, that are specifically designed for classification tasks and may perform better than adapting Random Forest Regressor for classification tasks.\n",
    "\n"
   ]
  },
  {
   "cell_type": "markdown",
   "metadata": {},
   "source": []
  }
 ],
 "metadata": {
  "language_info": {
   "name": "python"
  },
  "orig_nbformat": 4
 },
 "nbformat": 4,
 "nbformat_minor": 2
}
