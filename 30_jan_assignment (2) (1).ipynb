{
 "cells": [
  {
   "cell_type": "markdown",
   "id": "16aba753-0442-42e0-bc07-1e1f24a93afe",
   "metadata": {},
   "source": [
    "30th jan assignment"
   ]
  },
  {
   "cell_type": "markdown",
   "id": "a80d6fc9-e5f3-475b-a1da-d63b9a2a035a",
   "metadata": {},
   "source": [
    "Question 1. write a program to accept percentage from the user and display the grade according to the following criteria:"
   ]
  },
  {
   "cell_type": "code",
   "execution_count": 7,
   "id": "e154b3e9-4b40-48b1-84bd-b73828cedc17",
   "metadata": {},
   "outputs": [
    {
     "name": "stdin",
     "output_type": "stream",
     "text": [
      "enter your marks 45\n"
     ]
    },
    {
     "name": "stdout",
     "output_type": "stream",
     "text": [
      "D\n"
     ]
    }
   ],
   "source": [
    "marks=int(input(\"enter your marks\"))\n",
    "if marks>90:\n",
    "    print(\"A\")\n",
    "elif marks>80 and marks<=90:\n",
    "    print(\"B\")\n",
    "elif marks>60 and marks<=80:\n",
    "    print(\"C\")\n",
    "else:    \n",
    "    print(\"D\")"
   ]
  },
  {
   "cell_type": "markdown",
   "id": "23ee048f-a9e0-4079-9330-4a4ddc33ac94",
   "metadata": {},
   "source": [
    "Question2. Write a program to accept the cost price of a bike and display the road tax to be paid according to the following criteria:"
   ]
  },
  {
   "cell_type": "code",
   "execution_count": 18,
   "id": "6f2c3866-730a-46f5-926c-e1e984c97a05",
   "metadata": {},
   "outputs": [
    {
     "name": "stdin",
     "output_type": "stream",
     "text": [
      "enter price 46547658\n"
     ]
    },
    {
     "name": "stdout",
     "output_type": "stream",
     "text": [
      "The tax to be paid by consumers: 39565509.3\n"
     ]
    }
   ],
   "source": [
    "cost_price=int(input(\"enter price\"))\n",
    "if cost_price>100000:\n",
    "    print(\"The tax to be paid by consumers:\",cost_price*0.85)\n",
    "elif cost_price>50000 and cost_price<=100000:\n",
    "    print(\"The tax to be paid by consumers:\",cost_price*0.90)\n",
    "elif cost_price<=50000:\n",
    "    print(\"The tax to be paid by consumers:\",cost_price*0.95)\n"
   ]
  },
  {
   "cell_type": "markdown",
   "id": "40e41fd3-5ede-4b00-8f93-ff516f7b46ef",
   "metadata": {},
   "source": [
    "Question3. Accept any city from the user and display monuments of that city."
   ]
  },
  {
   "cell_type": "code",
   "execution_count": 7,
   "id": "bec129e4-4405-4a41-a557-3cafb0709d02",
   "metadata": {},
   "outputs": [
    {
     "name": "stdin",
     "output_type": "stream",
     "text": [
      "enter city :  DELHI\n"
     ]
    },
    {
     "name": "stdout",
     "output_type": "stream",
     "text": [
      "RED FORT\n"
     ]
    }
   ],
   "source": [
    "city= input(\"enter city : \") \n",
    "# criteria\n",
    "if city.upper() == \"DELHI\":\n",
    "      print (\"RED FORT\") \n",
    "elif city.upper() == \"AGRA\":\n",
    "       print(\"TAJ MAHAL\") \n",
    "elif city.upper() == \"JAIPUR\":\n",
    "    print(\"JAI MAHAL\")\n",
    "else: \n",
    "    print(\"enter valid city\")"
   ]
  },
  {
   "cell_type": "code",
   "execution_count": 6,
   "id": "94252855-fbd6-4a24-b907-230712677ee5",
   "metadata": {},
   "outputs": [
    {
     "name": "stdin",
     "output_type": "stream",
     "text": [
      "enter your city Delhi\n"
     ]
    },
    {
     "name": "stdout",
     "output_type": "stream",
     "text": [
      "Red Fort\n",
      "Taj Mahal\n",
      "Jal Mahal\n"
     ]
    }
   ],
   "source": [
    "city=input(\"enter your city\")\n",
    "city=[\"Delhi\",\"Agra\",\"Jaipur\"]\n",
    "for i in city:\n",
    "    \n",
    "    if i==\"Delhi\":\n",
    "        print(\"Red Fort\")\n",
    "    elif i==\"Agra\":\n",
    "        print(\"Taj Mahal\")\n",
    "    elif i==\"Jaipur\":\n",
    "        print(\"Jal Mahal\")\n",
    "        "
   ]
  },
  {
   "cell_type": "markdown",
   "id": "267b24f8-268c-422d-beda-a32a90b1d59c",
   "metadata": {},
   "source": [
    "Question4 check how many times a given number can be divided by3 before it is less than or equal to 10."
   ]
  },
  {
   "cell_type": "code",
   "execution_count": null,
   "id": "c4e7cb92-e05b-4e86-b197-1aad4c7aa5e6",
   "metadata": {},
   "outputs": [],
   "source": [
    "for i in range(1,126):\n",
    "    if i%3==0:\n",
    "        print(i)\n"
   ]
  },
  {
   "cell_type": "markdown",
   "id": "cb469d41-ca42-4e0d-b0dd-ca65bbb27716",
   "metadata": {},
   "source": [
    "Question5. Why and when to use while loop in python gives a detailed description with example."
   ]
  },
  {
   "cell_type": "raw",
   "id": "ac5ef5a0-22ef-43eb-bda6-c8c2583c480f",
   "metadata": {},
   "source": [
    "Ans whenever we want a sequencial  repeat of  any statement  or character multiple times without writing that code all the time , at that time we use over there.\n",
    "example---"
   ]
  },
  {
   "cell_type": "code",
   "execution_count": null,
   "id": "4d4af369-12d0-4acf-9dbf-bf4c76eb7e9c",
   "metadata": {},
   "outputs": [],
   "source": [
    "\n",
    "notes = 5\n",
    "i=1 # starting number intialize\n",
    "while i<=notes:\n",
    "    print(i)\n",
    "    i += 1\n",
    "else:\n",
    "    print(\"No 10 rupees note left\")\n",
    "\n",
    "    print('Total Money: ',notes*10,'Rupees')"
   ]
  },
  {
   "cell_type": "markdown",
   "id": "a871df2f-cd68-482d-9920-3111786351a7",
   "metadata": {},
   "source": [
    "Question6. Use nested while loop to print 3 different pattern."
   ]
  },
  {
   "cell_type": "code",
   "execution_count": null,
   "id": "8d2ee85e-80b6-42ca-b0f3-6cb7c0db08a3",
   "metadata": {},
   "outputs": [],
   "source": [
    "##### equilateral triangle\n",
    "n=int(input(\"enter the no of row\"))\n",
    "for i in range(n):\n",
    "    for j in range(n-i-1):\n",
    "        print(\" \",end=\"\")\n",
    "    for i in range(i+1):\n",
    "        print(\"*\",end=\" \")\n",
    "    print()    \n",
    "        "
   ]
  },
  {
   "cell_type": "code",
   "execution_count": null,
   "id": "8110d6f4-eb41-4495-b807-69aaee75fde5",
   "metadata": {},
   "outputs": [],
   "source": [
    "## inverted equilatera triangle\n",
    "a=int(input(\"enter no of rows\"))\n",
    "for i in range(n):\n",
    "    for j in range(i):\n",
    "        print(\" \",end=\"\")\n",
    "    for j in range(n-i):\n",
    "        print(\"*\",end=\" \")\n",
    "    print()   "
   ]
  },
  {
   "cell_type": "markdown",
   "id": "a3dda360-5848-46d3-9de5-5858b8bf9791",
   "metadata": {},
   "source": [
    "\n",
    "Question7. Reverse a while loop to display numbers from 10 to 1."
   ]
  },
  {
   "cell_type": "code",
   "execution_count": null,
   "id": "77b1c7f1-8470-49cd-b900-0c048f557867",
   "metadata": {},
   "outputs": [],
   "source": [
    "n=10\n",
    "while n>=1:\n",
    "    print(n)\n",
    "    n=n-1"
   ]
  },
  {
   "cell_type": "markdown",
   "id": "882e53f1-d6f0-4981-8682-7dcd64e2bd17",
   "metadata": {},
   "source": [
    "Question8.Reverse a while loop to display numbers from 10 to 1."
   ]
  },
  {
   "cell_type": "code",
   "execution_count": null,
   "id": "f7178b96-c22f-4ced-82f3-c9342ad757eb",
   "metadata": {},
   "outputs": [],
   "source": [
    "n=10\n",
    "while n>=0:\n",
    "    print(n)\n",
    "    n=n-1"
   ]
  },
  {
   "cell_type": "code",
   "execution_count": null,
   "id": "89be2024-400e-410a-aae7-b229ae04c7c7",
   "metadata": {},
   "outputs": [],
   "source": [
    "n=5\n",
    "print(\"*\"n)"
   ]
  },
  {
   "cell_type": "code",
   "execution_count": null,
   "id": "8c4aedf5-66db-4b93-858a-2df97ef09451",
   "metadata": {},
   "outputs": [],
   "source": []
  }
 ],
 "metadata": {
  "kernelspec": {
   "display_name": "Python 3 (ipykernel)",
   "language": "python",
   "name": "python3"
  },
  "language_info": {
   "codemirror_mode": {
    "name": "ipython",
    "version": 3
   },
   "file_extension": ".py",
   "mimetype": "text/x-python",
   "name": "python",
   "nbconvert_exporter": "python",
   "pygments_lexer": "ipython3",
   "version": "3.10.8"
  }
 },
 "nbformat": 4,
 "nbformat_minor": 5
}
