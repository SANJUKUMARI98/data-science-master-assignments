{
 "cells": [
  {
   "cell_type": "markdown",
   "metadata": {},
   "source": [
    "Q1. In order to predict house price based on several characteristics, such as location, square footage,\n",
    "number of bedrooms, etc., you are developing an SVM regression model. Which regression metric in this\n",
    "situation would be the best to employ?\n",
    "\n"
   ]
  },
  {
   "cell_type": "markdown",
   "metadata": {},
   "source": [
    "answer\n",
    "\n",
    "When developing an SVM regression model to predict house prices based on several characteristics,the best regression metric to employ would  be the mean squared error(MSE).The MSE measures the average of the squared differences between the predicted and actual house prices, which provides a good indication of how  well the model is performing in terms of accuracy.Additionally,the MSE is commonly used as a loss function in SVM regression and other machine learning algorithms,making it a standard metric to use when evaluating model performance .Other commonly used regression metrics ,such as the mean absolute error (MAE) and R-squred ,could also be used in this situation ,but the MSE is generally the preferred metric for SVM regression."
   ]
  },
  {
   "cell_type": "markdown",
   "metadata": {},
   "source": [
    "\n",
    "Q2: You have built an SVM regression model and are trying to decide between using MSE or R-squared as your evaluation metric. Which metric would be more appropriate if your goal is to predict the actual price of a house as accurately as possible?"
   ]
  },
  {
   "cell_type": "markdown",
   "metadata": {},
   "source": [
    "answer \n",
    "\n",
    "\n",
    "# MSE(mean squared error):\n",
    "it is a common evaluation metric in regression problem,and it measures the average squared difference between the predicted and the actual values.In the context of predicting house prices,minimizing the MSE means that your model will be able to predict the actual price of  a house more accurately on a average.\n",
    "\n",
    "# R-squared :\n",
    "It measures the proportion of the variance in the target variable that is explained  by the model.While  R-squared is a useful metric to evaluate the overall goodness of fit of the model,it mayi not directly correspond to the accuracy of individual predictions.\n",
    "In other words, a high R-squared value does not necessarily mean that the model is making accurate predictions.\n",
    "\n",
    "Therefore ,if your goal is to predict the actual price of a housfe as accurately  as possible,then MSE would be the more appropriate evaluation metric to use with your SVM regression model.\n"
   ]
  },
  {
   "cell_type": "markdown",
   "metadata": {},
   "source": [
    "Q3: You have a dataset with a significant number of outliers and are trying to select an appropriate regression metric to use with your SVM model. Which metric would be the most appropriate in this scenario?"
   ]
  },
  {
   "cell_type": "markdown",
   "metadata": {},
   "source": [
    "answer\n",
    "\n",
    "If the dataset has significant number of outliers ,then the most appropriate metric is MAE(mean absolute error).\n",
    "\n",
    "It is robust to the outliers than MSE(mean squared error).it calculate the average absolute difference between the predicted and actual  values rather than squaerd difference.The MSE can be heavily influenced by outliers,as the squared difference can become very large,resulting in a higher overall error.The MAE,on the other hand,provides a more robusr measure of error that is less affected by extreme values.\n",
    "Therefore ,if the dataset contains a significant number of outliers,the MAE would be the more appropriate metrics to use with an svm model."
   ]
  },
  {
   "cell_type": "markdown",
   "metadata": {},
   "source": [
    "Q4: You have built an SVM regression model using a polynomial kernel and are trying to select the best metric to evaluate its performance. You have calculated both MSE and RMSE and found that both values are very close. Which metric should you choose to use in this case?"
   ]
  },
  {
   "cell_type": "markdown",
   "metadata": {},
   "source": [
    "answer\n",
    "\n",
    "\n",
    "\n",
    "If we have calculated both MSE and RMSE and found that both values are very close,it is generally safe to use either metric to evaluate the performance of your SVM regression model.However,if we want to choose only one metric,it is good to use RMSE ,as it is more interpretable than MSE,RMSE is expressed in the same units as the target variable,which makes it easier to interpret the magnitude of the error in the context of the problem domain.Therefore,in this case,RMSE would be the better metric to choose to evaluate the  performance of your SVM regression model."
   ]
  },
  {
   "cell_type": "markdown",
   "metadata": {},
   "source": [
    "Q5: You are comparing the performance of different SVM regression models using different kernels (linear,polynomial, and RBF) and are trying to select the best evaluation metric. Which metric would be most appropriate if your goal is to measure how well the model explains the variance in the target variable?"
   ]
  },
  {
   "cell_type": "markdown",
   "metadata": {},
   "source": [
    "answer\n",
    "\n",
    "\n",
    "\n",
    "If the goal is to measure how well an SVM regression model using different kernels(linear,polynomial,and RBF) explains the variance in \n",
    "the  target variable ,the most appropriate evlauation metric would be the coefficient of determination (R-squared).R-squared measures the proportion of the variance in the dependent variable that is explained by the independent variables,providing a good indication of how well the model is fitting the data.In particular ,a higher R-squared value indicates that the model is explaining a larger proportion of the variance in the target  variable,which suggests that it is performing better in terms of accuracy.\n",
    "\n",
    "Therefore ,if the goal is to measure how well the model explains the variance in the target variable,the R-squared would be the most evaluation metrics to use when comparing the performance of SVM regression models using different kernels."
   ]
  },
  {
   "cell_type": "markdown",
   "metadata": {},
   "source": [
    "S"
   ]
  }
 ],
 "metadata": {
  "language_info": {
   "name": "python"
  },
  "orig_nbformat": 4
 },
 "nbformat": 4,
 "nbformat_minor": 2
}
