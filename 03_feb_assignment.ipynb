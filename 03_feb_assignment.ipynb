{
 "cells": [
  {
   "cell_type": "markdown",
   "id": "17dbb10e-6817-4e07-8cba-e4be28007ccd",
   "metadata": {},
   "source": [
    "03_february_assignments"
   ]
  },
  {
   "cell_type": "markdown",
   "id": "20befabe-3343-439e-a5cc-7a9bc54840b7",
   "metadata": {},
   "source": [
    "Q1. Which keyword is used to create a function? Create a function to return a list of odd numbers in the\n",
    "range of 1 to 25."
   ]
  },
  {
   "cell_type": "markdown",
   "id": "6a1f12e7-c496-4f7c-be07-4c929b337024",
   "metadata": {},
   "source": [
    "Q1. Which keyword is used to create a function? Create a function to return a list of odd numbers in the\n",
    "range of 1 to 25."
   ]
  },
  {
   "cell_type": "markdown",
   "id": "64b97912-4b0e-4d18-a9f3-83a77bc66dcd",
   "metadata": {},
   "source": [
    "ans"
   ]
  },
  {
   "cell_type": "raw",
   "id": "89a27042-eb55-4587-b21a-dc8df6a2a3d2",
   "metadata": {},
   "source": [
    "In python , def keyword is used to create function"
   ]
  },
  {
   "cell_type": "code",
   "execution_count": 2,
   "id": "8f5d9bdc-1151-4af5-adfb-c45ccd947dd2",
   "metadata": {},
   "outputs": [],
   "source": [
    "def odd_no(num1,num2):\n",
    "    odd_nos = []\n",
    "    for i in range(num1,num2):\n",
    "        if i %2!=0:\n",
    "            odd_nos.append(i)\n",
    "    return odd_nos        "
   ]
  },
  {
   "cell_type": "code",
   "execution_count": 3,
   "id": "522ea617-e7ab-49bc-a8b2-de45fc46405c",
   "metadata": {},
   "outputs": [
    {
     "data": {
      "text/plain": [
       "[1, 3, 5, 7, 9, 11, 13, 15, 17, 19, 21, 23, 25]"
      ]
     },
     "execution_count": 3,
     "metadata": {},
     "output_type": "execute_result"
    }
   ],
   "source": [
    "odd_no(0,26)"
   ]
  },
  {
   "cell_type": "markdown",
   "id": "4f35bf8e-6b91-4050-b50d-b86adbe60201",
   "metadata": {},
   "source": [
    "Q2. Why *args and **kwargs is used in some functions? Create a function each for *args and **kwargs to\n",
    "demonstrate their use."
   ]
  },
  {
   "cell_type": "markdown",
   "id": "481ca0e2-9109-4744-b1c5-8bd8b460a2ba",
   "metadata": {},
   "source": [
    "ans"
   ]
  },
  {
   "cell_type": "raw",
   "id": "82c98652-4899-453a-bce7-f9ac107da279",
   "metadata": {},
   "source": [
    "*args and and **kwargs are used in function definitions to allow a variable number of arguments to be passed to the function.\n",
    "\n",
    "*args is used to send a non-keyworded variable length argument list to the function ,example of *args:"
   ]
  },
  {
   "cell_type": "code",
   "execution_count": 4,
   "id": "9eae3afa-181e-4dfe-a74a-47b20abac2b7",
   "metadata": {},
   "outputs": [
    {
     "name": "stdout",
     "output_type": "stream",
     "text": [
      "34\n",
      "23\n",
      "112\n",
      "1\n",
      "13\n"
     ]
    }
   ],
   "source": [
    "def test(*args):\n",
    "    for i in args:\n",
    "        print(i)\n",
    "test(34,23,112,1,13)        "
   ]
  },
  {
   "cell_type": "code",
   "execution_count": 5,
   "id": "3def4800-04a1-41a7-9def-d2c23f1d9e8c",
   "metadata": {},
   "outputs": [
    {
     "name": "stdout",
     "output_type": "stream",
     "text": [
      "sanjana\n",
      "ramana\n",
      "shubham\n"
     ]
    }
   ],
   "source": [
    "test('sanjana','ramana','shubham')"
   ]
  },
  {
   "cell_type": "raw",
   "id": "01af5784-d46a-4469-bd2a-7d7da49f1a72",
   "metadata": {},
   "source": [
    "**kwargs allows us to pass keyworded variable length of arguments to a function. it allows us to pass a keyworded,variable lenth argument list.for example:\n"
   ]
  },
  {
   "cell_type": "code",
   "execution_count": 9,
   "id": "cf75747f-4cc7-4462-8fc6-3c61b8a004e5",
   "metadata": {},
   "outputs": [
    {
     "name": "stdout",
     "output_type": "stream",
     "text": [
      "name:sanjana\n",
      "course:machine learning\n",
      "medium:hindi\n"
     ]
    }
   ],
   "source": [
    "def test1(**kwargs):\n",
    "    for k,v in kwargs.items():\n",
    "        print(f'{k}:{v}')\n",
    "test1(name='sanjana' , course = 'machine learning' , medium = 'hindi')"
   ]
  },
  {
   "cell_type": "code",
   "execution_count": null,
   "id": "bfe3c871-8609-455b-8e74-8000deb77347",
   "metadata": {},
   "outputs": [],
   "source": []
  },
  {
   "cell_type": "markdown",
   "id": "5d847297-e31d-47db-8784-524350b5a41b",
   "metadata": {},
   "source": [
    "Q3. What is an iterator in python? Name the method used to initialise the iterator object and the method\n",
    "used for iteration. Use these methods to print the first five elements of the given list [2, 4, 6, 8, 10, 12, 14, 16,\n",
    "18, 20]."
   ]
  },
  {
   "cell_type": "markdown",
   "id": "953fe57f-2d58-475d-8462-d466c4711c4d",
   "metadata": {},
   "source": [
    "ans"
   ]
  },
  {
   "cell_type": "raw",
   "id": "055e3515-d71f-48f9-83ad-b310a6dd6d2b",
   "metadata": {},
   "source": [
    "An iterator  is an object that implements the iterator protocol ,this method \n",
    "__iter__() and __next__().\n",
    " \n",
    "The __iter__()returns the iterator object itself,and the __next__()method\n",
    "returns the next value from the iterator ,raising StopIteration when there are no more items."
   ]
  },
  {
   "cell_type": "code",
   "execution_count": 17,
   "id": "0a01e79c-0310-487d-a5c1-d22179d5b280",
   "metadata": {},
   "outputs": [
    {
     "name": "stdout",
     "output_type": "stream",
     "text": [
      "2\n",
      "4\n",
      "6\n",
      "8\n",
      "10\n"
     ]
    }
   ],
   "source": [
    "list = [2,4,6,8,10,12,14,16,18,20]\n",
    "# initialize the iter object\n",
    "iterate = iter(list)\n",
    "\n",
    "# the iter object and print first five element of list\n",
    "for i in range(5):\n",
    "    print(next(iterate))"
   ]
  },
  {
   "cell_type": "markdown",
   "id": "45dcd68c-f254-4cf4-a4d1-b482f9c796b4",
   "metadata": {},
   "source": [
    "Q4. What is a generator function in python? Why yield keyword is used? Give an example of a generator\n",
    "function."
   ]
  },
  {
   "cell_type": "markdown",
   "id": "796c63cc-426d-4010-a3c2-5d3c65adcf7f",
   "metadata": {},
   "source": [
    "ans"
   ]
  },
  {
   "cell_type": "raw",
   "id": "b57688ee-b101-4d61-a3e4-c91f05d08dcd",
   "metadata": {},
   "source": [
    "- A generator function in python is a special type of function that allows you to iterate over a potentially infinite sequence of values,one at a time.\n",
    "\n",
    "-The yield keyword is used in a generator function to return a value,but unlike a regular function that\n",
    "terminates when return is executed,a generator function can be resumed from where it left off,the \n",
    "next time it is called\n",
    "- here the example of generator function:"
   ]
  },
  {
   "cell_type": "code",
   "execution_count": 23,
   "id": "ba53fcb6-509a-48d7-911d-b0cda1fe99c4",
   "metadata": {},
   "outputs": [
    {
     "name": "stdout",
     "output_type": "stream",
     "text": [
      "The original list is  :  [1, 4, 5, 6, 7]\n",
      "The even numbers in list are : 4,6,"
     ]
    }
   ],
   "source": [
    "# genetator to print even numbers\n",
    "def print_even(test_list):\n",
    "    for i in test_list:\n",
    "        if i %2==0:\n",
    "            yield i\n",
    "            \n",
    "test_list = [1,4,5,6,7]\n",
    "\n",
    "print('The original list is  : ',test_list)\n",
    "\n",
    "print('The even numbers in list are : ',end = '')\n",
    "for j in print_even(test_list):\n",
    "    print(j,end = ',')"
   ]
  },
  {
   "cell_type": "markdown",
   "id": "c7566c74-0144-443c-bb5b-641c5d5544f8",
   "metadata": {},
   "source": [
    "Q5. Create a generator function for prime numbers less than 1000. Use the next() method to print the\n",
    "first 20 prime numbers."
   ]
  },
  {
   "cell_type": "markdown",
   "id": "7d35bc61-e3ac-41ba-8558-10fd89bc7bdc",
   "metadata": {},
   "source": [
    "ans"
   ]
  },
  {
   "cell_type": "code",
   "execution_count": 27,
   "id": "307df9e6-13b4-4439-a255-b713cf7cc24e",
   "metadata": {},
   "outputs": [
    {
     "name": "stdout",
     "output_type": "stream",
     "text": [
      "2\n",
      "3\n",
      "5\n",
      "7\n",
      "11\n",
      "13\n",
      "17\n",
      "19\n",
      "23\n",
      "29\n",
      "31\n",
      "37\n",
      "41\n",
      "43\n",
      "47\n",
      "53\n",
      "59\n",
      "61\n",
      "67\n",
      "71\n"
     ]
    }
   ],
   "source": [
    "def prime_number():\n",
    "    i_prime = []\n",
    "    for k in range(2,1000):\n",
    "        for p in i_prime:\n",
    "            if k % p ==0:\n",
    "                break\n",
    "        else:\n",
    "                i_prime.append(k)\n",
    "                yield k\n",
    "n=prime_number()\n",
    "for i in range(20):\n",
    "    print(next(n))"
   ]
  },
  {
   "cell_type": "markdown",
   "id": "61891b90-e5d2-4d7f-b251-a59f9da2581c",
   "metadata": {},
   "source": [
    "Q6.Write a python program to print the first 10 Fibonacci numbers using a while loop"
   ]
  },
  {
   "cell_type": "code",
   "execution_count": 28,
   "id": "cab2afdd-bc8c-49a2-a992-c6d34251b13c",
   "metadata": {},
   "outputs": [
    {
     "name": "stdout",
     "output_type": "stream",
     "text": [
      "0\n",
      "1\n",
      "1\n",
      "2\n",
      "3\n",
      "5\n",
      "8\n",
      "13\n",
      "21\n",
      "34\n",
      "55\n"
     ]
    }
   ],
   "source": [
    "a,b = 0,1\n",
    "counter = 0\n",
    "while counter <=10:\n",
    "    print(a)\n",
    "    c = a+b\n",
    "    a = b\n",
    "    b = c\n",
    "    counter +=1"
   ]
  },
  {
   "cell_type": "markdown",
   "id": "b6300151-522c-4124-98db-b597d77cd368",
   "metadata": {},
   "source": [
    "Ques7 Write a list comprehendsion to iterate through the given string:'pwskills'.\n",
    "\n",
    "expected output : [ 'p','w','s','k','i','l','l','s' ]"
   ]
  },
  {
   "cell_type": "code",
   "execution_count": 29,
   "id": "596a107b-2cac-45b7-9ef9-36fba1da3e29",
   "metadata": {},
   "outputs": [
    {
     "data": {
      "text/plain": [
       "['p', 'w', 's', 'k', 'i', 'l', 'l', 's']"
      ]
     },
     "execution_count": 29,
     "metadata": {},
     "output_type": "execute_result"
    }
   ],
   "source": [
    "[i for i in 'pwskills']"
   ]
  },
  {
   "cell_type": "markdown",
   "id": "225cf6be-7923-4ca8-a81b-a6eca6f09f82",
   "metadata": {},
   "source": [
    "Q8. Write a python program to check whether a given number is Palindrome or not using a while loop."
   ]
  },
  {
   "cell_type": "code",
   "execution_count": null,
   "id": "4bc82460-1d20-4048-a5a2-a6729fe7574f",
   "metadata": {},
   "outputs": [],
   "source": [
    "number = input(('Enter a number:'))\n",
    "\n",
    "if(number==number[::-1]):\n",
    "    print(f'{number} is palindrome')\n",
    "else:\n",
    "    print(f'{number} is not palindrome')"
   ]
  },
  {
   "cell_type": "code",
   "execution_count": 31,
   "id": "877e4f34-07cb-4b77-a604-7231300a8e5a",
   "metadata": {},
   "outputs": [
    {
     "name": "stdin",
     "output_type": "stream",
     "text": [
      "Enter a number: 1221\n"
     ]
    },
    {
     "name": "stdout",
     "output_type": "stream",
     "text": [
      "1221 is palindrome\n"
     ]
    }
   ],
   "source": [
    "number = input(('Enter a number:'))\n",
    "\n",
    "if(number==number[::-1]):\n",
    "    print(f'{number} is palindrome')\n",
    "else:\n",
    "    print(f'{number} is not palindrome')"
   ]
  },
  {
   "cell_type": "markdown",
   "id": "7dc22954-182d-48d2-830a-539321384c5a",
   "metadata": {},
   "source": [
    "Q9. Write a code to print odd numbers from 1 to 100 using list comprehension.\n",
    "\n",
    "\n",
    "Note: Use a list comprehension to create a list from 1 to 100 and use another List comprehension to filter out odd numbers."
   ]
  },
  {
   "cell_type": "code",
   "execution_count": 35,
   "id": "a7fb3d4b-1409-492d-abfe-77cb4bc14daa",
   "metadata": {},
   "outputs": [
    {
     "name": "stdout",
     "output_type": "stream",
     "text": [
      "[1, 3, 5, 7, 9, 11, 13, 15, 17, 19, 21, 23, 25, 27, 29, 31, 33, 35, 37, 39, 41, 43, 45, 47, 49, 51, 53, 55, 57, 59, 61, 63, 65, 67, 69, 71, 73, 75, 77, 79, 81, 83, 85, 87, 89, 91, 93, 95, 97, 99]\n"
     ]
    }
   ],
   "source": [
    "number = [i for i in range(1,101)]\n",
    "\n",
    "odd_number = [i for i in number if i%2 !=0]\n",
    "print(odd_number)"
   ]
  },
  {
   "cell_type": "code",
   "execution_count": null,
   "id": "d2df08aa-3626-48c6-818d-2e5f40a7048e",
   "metadata": {},
   "outputs": [],
   "source": []
  },
  {
   "cell_type": "code",
   "execution_count": null,
   "id": "c48b906c-c8ee-417a-8429-9728dda61c65",
   "metadata": {},
   "outputs": [],
   "source": []
  }
 ],
 "metadata": {
  "kernelspec": {
   "display_name": "Python 3 (ipykernel)",
   "language": "python",
   "name": "python3"
  },
  "language_info": {
   "codemirror_mode": {
    "name": "ipython",
    "version": 3
   },
   "file_extension": ".py",
   "mimetype": "text/x-python",
   "name": "python",
   "nbconvert_exporter": "python",
   "pygments_lexer": "ipython3",
   "version": "3.10.8"
  }
 },
 "nbformat": 4,
 "nbformat_minor": 5
}
