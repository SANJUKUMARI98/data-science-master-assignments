{
 "cells": [
  {
   "cell_type": "markdown",
   "metadata": {},
   "source": [
    "15thMarchAssignment(machine learning)"
   ]
  },
  {
   "cell_type": "markdown",
   "metadata": {},
   "source": [
    "Q1- Explain the following with an example:\n",
    "1 Artificial Intelligence\n",
    "2 Machine Learning,\n",
    "3 Deep Learning\n",
    "\n",
    "\n",
    "\n",
    "Answer  \n",
    "\n",
    "Artificial intelligenc: It is an application which perform certain function without any human intervention like self driving car\n",
    "chatgpt,chatbot,robots,Apple's siri,virtual assistant etc.\n",
    "\n",
    "Machine learning: It is subset of artificial intelligence which has satatistical tools, analysis data  calculates all the data and predict output bases on trained on.\n",
    "example a popular recommendattio engine ,which suggests movies and tv shows based on a user's viewing history.\n",
    "\n",
    "Deep learning : It is a subset of machine learning which uses multineural network to learn and make predictions,it mimics the human brain. \n",
    "It involves traininig a neural network with a large dataset to recognize patterns and make predictions. deep learning  is particularly useful in tasks such as image recognition,natural language processing ,and speech recognition.\n",
    "example a popular example of deep learning is google's AlphaGo, ans  AI program that uses deep learning to play board game  Go at a superhuman level."
   ]
  },
  {
   "cell_type": "markdown",
   "metadata": {},
   "source": [
    "\n",
    "Ques2: What is supervised learning? list some examples of supervised learning.\n",
    "\n",
    "\n",
    "Answer \n",
    "Supervised learning is a type of machine learning in which an algorithm learns from labeled from labeles data,where the input data has corresponding output labels.the goal of supervised learning is to learn a mapping function from input to output based on labeled  examples.\n",
    "\n",
    "In supervised learning, the algorithm is trained on a labeled dataset,which includes input features and their corresponding output labels. the algorithm then learns to map the input  features to their correct output labels by minimizing the difference between the predicted output and the actual output.\n",
    "\n",
    "example\n",
    "1. image classification: Given a set of labeled images, the algorithm learns to recognize patterns and classify new images into one of the predefined categories.\n",
    "\n",
    "2.spam detection: Given a labeles datasets of emails,the algorithm learns to classify incoming  emails as spam or not spam.\n",
    "\n",
    "3.sentiment analysis: Given a labeled dataset of customer reviews, the algorithm learns to classsify the sentiment of new reviews as positive,negative,or neutral.\n",
    "\n",
    "4.Fraud detection: Given a labeled dataset of transactions,the algorithm learns to identify fraudulent transactions based on input features such as transaction amount ,locatio ,and user behavior.\n",
    "\n",
    "5.Predicting house prices: Given a labeled dataset of house prices and their corresponding features ,the algorithm learns to predict the price of a new house based on its features ,the algorithm learns to predict the price of a new house based on its features such as location,number of bedrooms and square footage.\n",
    "\n",
    "\n",
    "\n"
   ]
  },
  {
   "cell_type": "markdown",
   "metadata": {},
   "source": [
    "\n",
    "Ques3. What is unsupervised learning? list some examples of unsupervised learning.\n",
    "\n",
    "\n",
    "Answer \n",
    "\n",
    "Unsupervised learning is a type of machine learning in which the algorithm learns patterns and relationships from unlabeled data without any guidance or feedback.\n",
    "Unlike supervised learning,there are no labels associated with the input data. Instead ,the algorithm is lefft to discover hidden structures and patterns in the data on its own.\n",
    "\n",
    "example \n",
    "\n",
    "1.Clustering:Given a set of unlabeled data points,the algorithm learns to group them into clusters based on similarities in their features.\n",
    "\n",
    "2.Dimensionality reduction: Given a high-dimensional dataset, the algorithm learns to reduce the number of features while preserving as much information as possible.\n",
    "\n",
    "3. Anamoly detection: Given a dataset of normal behavior, the algorithm learns to detect outliers or anomalies that do not fit the typical patterns in the data.\n",
    "\n",
    "4.Market segmentation:Given a dataset of customer data, the algorithm learns to group customers into different segments based on their behaviors and preferences.\n",
    "\n",
    "5. Recommendation systems : Given a dataset of user behavior , the algorithm learns to recommend products or services based on similar user preference and behavior patterns.\n",
    "\n",
    "In supervised learning ,the algorithm is free to discover patterns and structures that may be immediately obvious to humans.Unsupervised learning is widely used in fields such as data mining, natural language processing, and computer vision."
   ]
  },
  {
   "cell_type": "markdown",
   "metadata": {},
   "source": [
    "\n",
    "Q4- What is the difference between AI, ML, DL, and DS?\n",
    "\n",
    "\n",
    "Answer \n",
    "\n",
    "AI,ML,DL,and DS  are all related fields that deal with data , algorithms, and making sense of patterns in the data. \n",
    "\n",
    "1. Artificial intelligence(AI) : It is a broad field that encompasses many subfields such as natural language processing,computer vision,robotics, and more. AI involves creating intelligent machines that  can perceive their enviroment,reason,learn,and make decision.\n",
    "\n",
    "\n",
    "2 Machine learning (ML): it is a subset of AI that involves developing algorithms that can automatically learn  and improve from experience without being explicitly programmed . ML  algorithms use statistical techniques to identify patterns and make predictiond based on the data they have been trained on.\n",
    "\n",
    "3. Deep Learning(DL) : It is a subsets of ml that uses neural networks to learn and make decisions. It involves training a neural network with a large dataset to recognize patterns and make predictions. DL is particularly useful in tasks such as image recognition,natural language processing,and speech recognition.\n",
    "\n",
    "4.Data Science(DS) : It is an interdisciplinary field that involves extracting insights and knowledge from data using various  techniques such as statistics,data mining and machine learning. DS involves working with structured and unstructured data to gain insights and make data-driven decision.\n",
    "\n",
    "\n",
    "\n",
    "conclusion:\n",
    "\n",
    "AI is a broad  field that encompasses many subfields, including ML,DL\n",
    "ML involves of developing algorithms that can learn from experience \n",
    "DL uses neural networks to learn  and make decision.\n",
    "DS is an interdisciplinary field that involves working with data to gain insights and make data-driven decision.\n",
    "\n"
   ]
  },
  {
   "cell_type": "markdown",
   "metadata": {},
   "source": [
    "Ques5: What are the main difference between supervised,unsupervised and semi-supervised learning?\n",
    "\n",
    "\n",
    "Answer \n",
    "\n",
    "Supervised learning : in supervised learning, the algorithm learns from labeled data,where the input data has corresponding output labels.The goal of supervised learning is to learn a mapping function from input to output based on labeled examples.examples of supervised learning include image classification,sentiment anunalysis, and fraud detection.\n",
    "\n",
    "\n",
    "Unsupervised learning: in this, algorithm learns patterns and relationships from unlabeled data without any guidance,or feedback.Unlike supervised learinig ,there are no labels associated with the input data. Instead,the algorithm is left to discover hidden structures and patterns in the data on its own. example- clustering, dimensionaliaty reductionm and anamaly detection.\n",
    "\n",
    "3.Semi-supervised learning : in this , the algorithm learns from a combination of labeled and unlabeled data. The goal of semi-supervised learning is to levearage the unlabeled data to improve the performance of the  algorithm on the labeled  data. Semi-supervised learning is useful when labeled data is scare or expensive to obtain. Example: text classification,speech recognition ,and image segmentation."
   ]
  },
  {
   "cell_type": "markdown",
   "metadata": {},
   "source": [
    "Ques6 What is train,test and validation split?Explain the importance of each term.\n",
    "\n",
    "Answer  \n",
    "\n",
    "\n",
    "Train-test-validation split is a common practice in machine learning that involves dividinig a dataset into three parts: a training set, a test set and a validation set. \n",
    "\n",
    "1 Training set : The training set is a subset of the dataset used to train the machine learining model.The model is trained on this data by adjusting its parameters and optimizinig its performance on this set. The importance of the traininig set is that it provides the model with necessary knowledge to make accurate predictions on new ,unseen data.\n",
    "\n",
    "2. Test set:The test set is a subset of the dataset used to evaluate the performance of the trained machine learning model.the model is evaluated on this set to see how well it generalizes to new,unseen data. the importance of the teset set is  that it provides an unbiased estimate of  the model's performance on new data.\n",
    "\n",
    "3 Validation set : the validation set is a subset of the dataset used ot tune the hyperparmametes of the machine learning model.the hyperparameters are the parameters that are not learnes by the model during training, such as the learning rate or the number of hidden layers . the validation set is used to test different hyperparameter settings to find the best combination that optimizes the performance of the modeal on the test set. the importance of the validation set is that it helps prevent overfittinig by ensuring that the model\n",
    "s performance is not being optimized solely for the training set."
   ]
  },
  {
   "cell_type": "markdown",
   "metadata": {},
   "source": [
    "Ques7: How can unsupervised learning be used in anomaly detection?\n",
    "\n",
    "\n",
    "Answer \n",
    "\n",
    "\n",
    "Unsupervised learning can be used for anomaly detection by learning the normal patterns or behavior of a dataset and identifying data points that deviate significantly from patterns.\n",
    "\n",
    "1.Data pre-processing : The first step is to pre-process the data to remove any noise or irrelevant information that may affect the anomaly detection process.\n",
    "\n",
    "2. Model training : Next,an unsupervised learning algorithm such as clustering or density-based methods is trained on the pre-processed  data to learn the normal patterns or behavioe of the dataset.the algorithm clusters or groups similar data points together based on their similarity in feature space.\n",
    "\n",
    "3.Anomaly detection : once the model is trained ,it can be used to identify anomalies or outliers that do not fit into any of the learned patterns.These anomalies can be detected by measuring the distance or dissimilarity of each point to its nearest cluster of density region. Data points that are far away from any cluster of density region can be identified as anomalies.\n",
    "\n",
    "4. Evaluation : The performance of the unsupervised learning algorithm can be evaluated using various metrics such as precision, recall,F1-score. the algorithm can be also fine tuned by adjusting the hyperparameter to optimize its performance."
   ]
  },
  {
   "cell_type": "markdown",
   "metadata": {},
   "source": []
  }
 ],
 "metadata": {
  "language_info": {
   "name": "python"
  },
  "orig_nbformat": 4
 },
 "nbformat": 4,
 "nbformat_minor": 2
}
