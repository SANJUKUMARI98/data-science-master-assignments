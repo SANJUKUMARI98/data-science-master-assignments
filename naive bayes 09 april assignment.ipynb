{
 "cells": [
  {
   "cell_type": "markdown",
   "id": "20b47b73-b3b3-4c35-9b08-0eaf64d80b38",
   "metadata": {},
   "source": [
    "# naive bayes 09 april assignment"
   ]
  },
  {
   "cell_type": "markdown",
   "id": "9131b2c1-0096-4898-929c-15bafa5e6872",
   "metadata": {},
   "source": [
    "Q1. What is Bayes' theorem?"
   ]
  },
  {
   "cell_type": "raw",
   "id": "888da3bb-385e-45d2-ad22-cc26e207e840",
   "metadata": {},
   "source": [
    "answer\n",
    "\n",
    "Bayes' Theorem states that the conditional probability of an event, based on the occurrence of another event, is equal to the likelihood of the second event given the first event multiplied by the probability of the first event."
   ]
  },
  {
   "cell_type": "markdown",
   "id": "ae0c665c-7689-44f0-9979-471a74105765",
   "metadata": {},
   "source": [
    "Q2. What is the formula for Bayes' theorem?"
   ]
  },
  {
   "cell_type": "raw",
   "id": "a0943dc8-f419-4df6-814c-0e01166e4a6d",
   "metadata": {},
   "source": [
    "answer\n",
    "\n",
    "p(A/B) = p(A)*p(B/A)/p(B)\n",
    "where,\n",
    "\n",
    "p(A/B)=probability of event A given B has occured\n",
    "p(A)= probability of event A\n",
    "p(B)=probability of event B\n",
    "p(B/A)= probability of event B given event B has occured\n"
   ]
  },
  {
   "cell_type": "markdown",
   "id": "80f099af-4204-49ea-84b9-a4af4c5e5486",
   "metadata": {},
   "source": [
    "Q3. How is Bayes' theorem used in practice?"
   ]
  },
  {
   "cell_type": "raw",
   "id": "8afc6b8d-a6a1-4d63-aaf8-89db7b00cb82",
   "metadata": {},
   "source": [
    "answer\n",
    "\n",
    "Bayes' theorem is widely used in various fields, such as statistics,\n",
    "machine learning, artificial intelligence, and data analysis, to make predictions\n",
    "and infer probabilities based on observed data.\n",
    "\n",
    "\n",
    "\n",
    "\n",
    "\n"
   ]
  },
  {
   "cell_type": "markdown",
   "id": "c0c96afc-47c2-4b41-9299-e8c3823a1dae",
   "metadata": {},
   "source": [
    "Q4. What is the relationship between Bayes' theorem and conditional probability?"
   ]
  },
  {
   "cell_type": "raw",
   "id": "8926b023-e863-44af-a3dc-da580270abc7",
   "metadata": {},
   "source": [
    "answer\n",
    "\n",
    "Bayes' Theorem states that the conditional probability of an event, based on the occurrence of another event, is equal to the likelihood of the second event given the first event multiplied by the probability of the first event."
   ]
  },
  {
   "cell_type": "raw",
   "id": "678fd195-def3-4fb3-886f-1732834fd3e4",
   "metadata": {},
   "source": [
    "Q5. How do you choose which type of Naive Bayes classifier to use for any given problem?"
   ]
  },
  {
   "cell_type": "raw",
   "id": "1356cd2c-cda5-4612-8cf6-87c10b6fbb8f",
   "metadata": {},
   "source": [
    "answer\n",
    "\n",
    "whenever the independent feature are in the form of binary category like male or female ,yes or no ,pass or fail etc ,then we use \n",
    "bernouli naive bayes theorem.\n",
    "\n",
    "whenever the independent features are in the form of text or image like email spam classification ,then we use multinomial naive bayes theorem.\n",
    "whenever the feature form normal guassian theorem (bell curve) and have continuous dataset like age,height,weight etc.,then we \n",
    "use guassian naive bayes theorem."
   ]
  },
  {
   "cell_type": "markdown",
   "id": "2d58b8f9-8425-43fa-b172-030073859761",
   "metadata": {},
   "source": [
    "You have a dataset with two features, X1 and X2, and two possible classes, A and B. You want to use Naive\n",
    "Bayes to classify a new instance with features X1 = 3 and X2 = 4. The following table shows the frequency of\n",
    "each feature value for each class:\n",
    "\n",
    "Class X1=1 X1=2 X1=3 X2=1 X2=2 X2=3 X2=4\n",
    "A 3 3 4 4 3 3 3\n",
    "B 2 2 1 2 2 2 3\n",
    "Assuming equal prior probabilities for each class, which class would Naive Bayes predict the new instance\n",
    "to belong to?\n",
    "\n"
   ]
  },
  {
   "cell_type": "markdown",
   "id": "7fe379c0-3a26-4b48-a7b8-829d839d6ce2",
   "metadata": {},
   "source": [
    "answer"
   ]
  },
  {
   "cell_type": "code",
   "execution_count": null,
   "id": "5b712749-1bf9-475a-b383-ef7730bb94a6",
   "metadata": {},
   "outputs": [],
   "source": []
  },
  {
   "cell_type": "code",
   "execution_count": null,
   "id": "536c087b-9b93-42d1-8ecc-b782a710d7af",
   "metadata": {},
   "outputs": [],
   "source": []
  }
 ],
 "metadata": {
  "kernelspec": {
   "display_name": "Python 3 (ipykernel)",
   "language": "python",
   "name": "python3"
  },
  "language_info": {
   "codemirror_mode": {
    "name": "ipython",
    "version": 3
   },
   "file_extension": ".py",
   "mimetype": "text/x-python",
   "name": "python",
   "nbconvert_exporter": "python",
   "pygments_lexer": "ipython3",
   "version": "3.10.8"
  }
 },
 "nbformat": 4,
 "nbformat_minor": 5
}
