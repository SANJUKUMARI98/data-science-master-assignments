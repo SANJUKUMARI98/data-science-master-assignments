{
 "cells": [
  {
   "cell_type": "markdown",
   "id": "ce144aa6-500a-44ff-893f-a8791e47544d",
   "metadata": {},
   "source": [
    "# 26 february numpy asssignments\n"
   ]
  },
  {
   "cell_type": "markdown",
   "id": "e7fa55d3-079d-444d-b638-47da90f43e22",
   "metadata": {},
   "source": [
    "Consider the below code to answer further questions:\n",
    "\n",
    "\n",
    "import numpy as np\n",
    "list_ = [ ‘1’ , ’2’ , ‘3’ , ‘4’ , ‘5’ ]\n",
    "\n",
    "\n",
    "array_list = np.array(object = list_)\n",
    "\n",
    "\n",
    "Q1. Is there any difference in the data type of variables list_ and array_list? If there is then write a code\n",
    "to print the data types of both the variables.\n",
    "\n",
    "\n",
    "\n",
    "\n",
    "\n"
   ]
  },
  {
   "cell_type": "code",
   "execution_count": 2,
   "id": "b722f34d-49d0-4715-bc38-9d957527ae9d",
   "metadata": {},
   "outputs": [],
   "source": [
    "import numpy as np\n",
    "\n",
    "\n",
    "list_ = ['1','2','3','4','5']\n",
    "\n",
    "array_list = np.array(list_)"
   ]
  },
  {
   "cell_type": "code",
   "execution_count": 3,
   "id": "7f86a997-7dd4-4bbf-b83d-49a3ba3505da",
   "metadata": {},
   "outputs": [
    {
     "data": {
      "text/plain": [
       "list"
      ]
     },
     "execution_count": 3,
     "metadata": {},
     "output_type": "execute_result"
    }
   ],
   "source": [
    "type(list_)"
   ]
  },
  {
   "cell_type": "code",
   "execution_count": 5,
   "id": "7bc9c2be-ff0c-420a-9789-9a4a5a06cd9e",
   "metadata": {},
   "outputs": [
    {
     "data": {
      "text/plain": [
       "numpy.ndarray"
      ]
     },
     "execution_count": 5,
     "metadata": {},
     "output_type": "execute_result"
    }
   ],
   "source": [
    "type(array_list)"
   ]
  },
  {
   "cell_type": "markdown",
   "id": "660e89c6-74ff-45c4-ba49-2b9265fb9170",
   "metadata": {},
   "source": [
    "ans  \n",
    "\n",
    "list_ is a list while array_list is an array . both have different data type."
   ]
  },
  {
   "cell_type": "code",
   "execution_count": 10,
   "id": "1b486cd6-0adb-4c4e-a442-012ae426f05e",
   "metadata": {},
   "outputs": [
    {
     "name": "stdout",
     "output_type": "stream",
     "text": [
      "the list_has datatype  :  <class 'list'>\n",
      "the array_list has datatype  :  <class 'numpy.ndarray'>\n"
     ]
    }
   ],
   "source": [
    "print('the list_has datatype  : ',type(list_))\n",
    "print('the array_list has datatype  : ',type(array_list))"
   ]
  },
  {
   "cell_type": "markdown",
   "id": "dc0c5a85-5154-4585-a1a7-d1f9223044d3",
   "metadata": {},
   "source": [
    "Q2. Write a code to print the data type of each and every element of both the variables list_ and\n",
    "arra_list.\n",
    "\n",
    "\n",
    "\n",
    "\n",
    "\n"
   ]
  },
  {
   "cell_type": "code",
   "execution_count": 14,
   "id": "2f352834-946e-40a6-bcda-b6bd5b850504",
   "metadata": {},
   "outputs": [
    {
     "name": "stdout",
     "output_type": "stream",
     "text": [
      "1 <class 'str'>\n",
      "2 <class 'str'>\n",
      "3 <class 'str'>\n",
      "4 <class 'str'>\n",
      "5 <class 'str'>\n"
     ]
    }
   ],
   "source": [
    "# ans\n",
    "# list(i for i in list_)\n",
    "\n",
    "for i in list_ : \n",
    "    print(i,type(i))\n"
   ]
  },
  {
   "cell_type": "code",
   "execution_count": 15,
   "id": "82bed4c4-315a-4efa-bb5f-f741803e77dc",
   "metadata": {},
   "outputs": [
    {
     "name": "stdout",
     "output_type": "stream",
     "text": [
      "1 <class 'numpy.str_'>\n",
      "2 <class 'numpy.str_'>\n",
      "3 <class 'numpy.str_'>\n",
      "4 <class 'numpy.str_'>\n",
      "5 <class 'numpy.str_'>\n"
     ]
    }
   ],
   "source": [
    "for i in array_list : \n",
    "    print(i,type(i))"
   ]
  },
  {
   "cell_type": "code",
   "execution_count": null,
   "id": "024d5f25-288d-4eed-89e2-aa438ab526ea",
   "metadata": {},
   "outputs": [],
   "source": []
  },
  {
   "cell_type": "markdown",
   "id": "1ffafd8f-7505-4990-bdc8-7d438a1aeec6",
   "metadata": {},
   "source": [
    "Q3. Considering the following changes in the variable, array_list:\n",
    "array_list = np.array(object = list_, dtype = int)\n",
    "\n",
    "\n",
    "Will there be any difference in the data type of the elements present in both the variables, list_ and\n",
    "arra_list? If so then print the data types of each and every element present in both the variables, list_\n",
    "and arra_list.\n",
    "\n",
    "\n",
    "ans \n",
    "\n",
    "Yes, there is a difference  in list_ it is showing only class str but in array_list , it is showing class numpy and str. \n",
    "it means that list_ is a list while array_list is an array.both have same data type str (string).\n",
    "\n",
    "\n",
    "\n"
   ]
  },
  {
   "cell_type": "code",
   "execution_count": 18,
   "id": "453a739b-de9f-4a42-bd96-bc975119c977",
   "metadata": {},
   "outputs": [
    {
     "name": "stdout",
     "output_type": "stream",
     "text": [
      "<class 'list'>\n",
      "<class 'list'>\n",
      "<class 'list'>\n",
      "<class 'list'>\n",
      "<class 'list'>\n",
      "<class 'numpy.ndarray'>\n",
      "<class 'numpy.ndarray'>\n",
      "<class 'numpy.ndarray'>\n",
      "<class 'numpy.ndarray'>\n",
      "<class 'numpy.ndarray'>\n"
     ]
    }
   ],
   "source": [
    "for i in list_:\n",
    "    print(type(list_))\n",
    "\n",
    "\n",
    "for i in array_list :\n",
    "    print(type(array_list))"
   ]
  },
  {
   "cell_type": "markdown",
   "id": "4d3c830d-2587-4bac-8bac-bf31a8301ed8",
   "metadata": {},
   "source": [
    "Consider the below code to answer further questions:\n",
    "\n",
    "\n",
    "import numpy as np\n",
    "\n",
    "num_list = [ [ 1 , 2 , 3 ] , [ 4 , 5 , 6 ] ]\n",
    "\n",
    "num_array = np.array(object = num_list)\n",
    "\n",
    "\n",
    "Q4. Write a code to find the following characteristics of variable, num_array:\n",
    "\n",
    "(i) shape\n",
    "(ii) size"
   ]
  },
  {
   "cell_type": "code",
   "execution_count": 26,
   "id": "496ae7ff-97eb-4dd5-8f91-0b373611cfe3",
   "metadata": {},
   "outputs": [
    {
     "name": "stdout",
     "output_type": "stream",
     "text": [
      "[[1, 2, 3], [4, 5, 6]]\n",
      "[[1 2 3]\n",
      " [4 5 6]]\n",
      "The size of the num_array is : 6\n",
      "The shape of the num_array is : (2, 3)\n"
     ]
    }
   ],
   "source": [
    "import numpy as np\n",
    "\n",
    "num_list = [[1,2,3],[4,5,6]]\n",
    "\n",
    "num_array = np.array(num_list)\n",
    "print(num_list)\n",
    "print(num_array)\n",
    "print('The size of the num_array is :',num_array.size)\n",
    "print('The shape of the num_array is :',num_array.shape)"
   ]
  },
  {
   "cell_type": "markdown",
   "id": "84066b2e-f37b-4033-a17f-e0b359bfb4f8",
   "metadata": {},
   "source": [
    "\n",
    "Q5. Write a code to create numpy array of 3*3 matrix containing zeros only, using a numpy array\n",
    "creation function.\n",
    "\n",
    "\n",
    "[Hint: The size of the array will be 9 and the shape will be (3,3).]\n",
    "\n"
   ]
  },
  {
   "cell_type": "code",
   "execution_count": 29,
   "id": "4b86db9b-d392-4365-b8b4-97cf22d5d876",
   "metadata": {},
   "outputs": [
    {
     "name": "stdout",
     "output_type": "stream",
     "text": [
      "[[0. 0. 0.]\n",
      " [0. 0. 0.]\n",
      " [0. 0. 0.]]\n",
      "9\n",
      "(3, 3)\n"
     ]
    }
   ],
   "source": [
    "import numpy as np\n",
    "arr = np.zeros((3,3))\n",
    "print(arr)\n",
    "print(arr.size)\n",
    "print(arr.shape)"
   ]
  },
  {
   "cell_type": "markdown",
   "id": "f29dbf99-2a2d-40b3-823f-7308a34a15af",
   "metadata": {},
   "source": [
    "Q6. Create an identity matrix of shape (5,5) using numpy functions?\n",
    "\n",
    "\n",
    "\n",
    "[Hint: An identity matrix is a matrix containing 1 diagonally and other elements will be 0.]"
   ]
  },
  {
   "cell_type": "code",
   "execution_count": 30,
   "id": "a21f4771-76eb-4521-90eb-9d48e61fc796",
   "metadata": {},
   "outputs": [
    {
     "data": {
      "text/plain": [
       "array([[1., 0., 0., 0., 0.],\n",
       "       [0., 1., 0., 0., 0.],\n",
       "       [0., 0., 1., 0., 0.],\n",
       "       [0., 0., 0., 1., 0.],\n",
       "       [0., 0., 0., 0., 1.]])"
      ]
     },
     "execution_count": 30,
     "metadata": {},
     "output_type": "execute_result"
    }
   ],
   "source": [
    "import numpy as np\n",
    "np.eye(5,5)"
   ]
  },
  {
   "cell_type": "code",
   "execution_count": null,
   "id": "3e0a97db-0a24-44bc-bbed-3cd49af7dcd1",
   "metadata": {},
   "outputs": [],
   "source": []
  }
 ],
 "metadata": {
  "kernelspec": {
   "display_name": "Python 3 (ipykernel)",
   "language": "python",
   "name": "python3"
  },
  "language_info": {
   "codemirror_mode": {
    "name": "ipython",
    "version": 3
   },
   "file_extension": ".py",
   "mimetype": "text/x-python",
   "name": "python",
   "nbconvert_exporter": "python",
   "pygments_lexer": "ipython3",
   "version": "3.10.8"
  }
 },
 "nbformat": 4,
 "nbformat_minor": 5
}
